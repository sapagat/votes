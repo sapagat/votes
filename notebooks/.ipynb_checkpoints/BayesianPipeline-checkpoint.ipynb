{
 "cells": [
  {
   "cell_type": "markdown",
   "metadata": {},
   "source": [
    "## Import libraries"
   ]
  },
  {
   "cell_type": "code",
   "execution_count": 70,
   "metadata": {},
   "outputs": [
    {
     "name": "stdout",
     "output_type": "stream",
     "text": [
      "The autoreload extension is already loaded. To reload it, use:\n",
      "  %reload_ext autoreload\n"
     ]
    }
   ],
   "source": [
    "import functions as fun\n",
    "\n",
    "\n",
    "%load_ext autoreload\n",
    "%autoreload 2"
   ]
  },
  {
   "cell_type": "markdown",
   "metadata": {},
   "source": [
    "## Parse input"
   ]
  },
  {
   "cell_type": "code",
   "execution_count": 71,
   "metadata": {},
   "outputs": [
    {
     "data": {
      "text/plain": [
       "[{'tweet_id': '1395',\n",
       "  'category': 'CAT',\n",
       "  'text': 'Gallina de piel. Emocionada. #SomLaHistoria #27S #catalunya #democracia'},\n",
       " {'tweet_id': '2931',\n",
       "  'category': 'CAT',\n",
       "  'text': 'Bon dia, aquest #Diumenge és molt millor que qualsevol #Divendres. Somrient. #27S'},\n",
       " {'tweet_id': '6246',\n",
       "  'category': 'SPA',\n",
       "  'text': '#27s al otro lado de las urnas... https://t.co/lHU7QkdWF2'},\n",
       " {'tweet_id': '2323',\n",
       "  'category': 'CAT',\n",
       "  'text': \"9:03 cua fins la cantonada per votar a Dominiques de l' ensenyament, carrer Mallorca. La força d'un poble! #27S #27S2015\"},\n",
       " {'tweet_id': '2091',\n",
       "  'category': 'CAT',\n",
       "  'text': 'Acabo de rebre les paperetes per anar al Cons Esp a votar abans de les 14h del 25S. Gràcies ESP. Visca la vostra democràcia. #VotaPerMi #27S'}]"
      ]
     },
     "execution_count": 71,
     "metadata": {},
     "output_type": "execute_result"
    }
   ],
   "source": [
    "tweets = fun.parse_input_as_dictonary()\n",
    "tweets[:5]"
   ]
  },
  {
   "cell_type": "markdown",
   "metadata": {},
   "source": [
    "## Pre-processing of a tweet"
   ]
  },
  {
   "cell_type": "code",
   "execution_count": 72,
   "metadata": {},
   "outputs": [
    {
     "data": {
      "text/plain": [
       "'A #Oliana: 84,39% participació. Resultats @JuntsPelSi 811 Cup 76 Ciutadans 61 Catalunya si q es pot 28 Psc 66 Pp 60 Unio 43 #GuanyemJunts'"
      ]
     },
     "execution_count": 72,
     "metadata": {},
     "output_type": "execute_result"
    }
   ],
   "source": [
    "a_tweet = \"A #Oliana: 84,39% participació. Resultats @JuntsPelSi 811 Cup 76 Ciutadans 61 Catalunya si q es pot 28 Psc 66 Pp 60 Unio 43 #GuanyemJunts\"\n",
    "a_tweet"
   ]
  },
  {
   "cell_type": "code",
   "execution_count": 73,
   "metadata": {},
   "outputs": [
    {
     "data": {
      "text/plain": [
       "'A Oliana: 84,39% participació. Resultats @JuntsPelSi 811 Cup 76 Ciutadans 61 Catalunya si q es pot 28 Psc 66 Pp 60 Unio 43 GuanyemJunts'"
      ]
     },
     "execution_count": 73,
     "metadata": {},
     "output_type": "execute_result"
    }
   ],
   "source": [
    "clean_tweet = fun.remove_characters_from_tweet(a_tweet)\n",
    "clean_tweet"
   ]
  },
  {
   "cell_type": "code",
   "execution_count": 74,
   "metadata": {},
   "outputs": [
    {
     "data": {
      "text/plain": [
       "['a',\n",
       " 'oliana',\n",
       " ':',\n",
       " '84,39',\n",
       " '%',\n",
       " 'participació',\n",
       " '.',\n",
       " 'resultats',\n",
       " '811',\n",
       " 'cup',\n",
       " '76',\n",
       " 'ciutadans',\n",
       " '61',\n",
       " 'catalunya',\n",
       " 'si',\n",
       " 'q',\n",
       " 'es',\n",
       " 'pot',\n",
       " '28',\n",
       " 'psc',\n",
       " '66',\n",
       " 'pp',\n",
       " '60',\n",
       " 'unio',\n",
       " '43',\n",
       " 'guanyemjunts']"
      ]
     },
     "execution_count": 74,
     "metadata": {},
     "output_type": "execute_result"
    }
   ],
   "source": [
    "tokens = fun.tokenize(clean_tweet)\n",
    "tokens"
   ]
  },
  {
   "cell_type": "code",
   "execution_count": 75,
   "metadata": {},
   "outputs": [
    {
     "data": {
      "text/plain": [
       "['oliana',\n",
       " '84,39',\n",
       " 'participació',\n",
       " 'resultats',\n",
       " '811',\n",
       " 'cup',\n",
       " '76',\n",
       " 'ciutadans',\n",
       " '61',\n",
       " 'catalunya',\n",
       " 'si',\n",
       " 'q',\n",
       " 'pot',\n",
       " '28',\n",
       " 'psc',\n",
       " '66',\n",
       " 'pp',\n",
       " '60',\n",
       " 'unio',\n",
       " '43',\n",
       " 'guanyemjunts']"
      ]
     },
     "execution_count": 75,
     "metadata": {},
     "output_type": "execute_result"
    }
   ],
   "source": [
    "words = fun.filter_tokens(tokens)\n",
    "words"
   ]
  },
  {
   "cell_type": "code",
   "execution_count": 76,
   "metadata": {},
   "outputs": [
    {
     "data": {
      "text/plain": [
       "['oliana',\n",
       " '84,39',\n",
       " 'participació',\n",
       " 'resultat',\n",
       " '811',\n",
       " 'cup',\n",
       " '76',\n",
       " 'ciutadan',\n",
       " '61',\n",
       " 'catalunya',\n",
       " 'si',\n",
       " 'q',\n",
       " 'pot',\n",
       " '28',\n",
       " 'psc',\n",
       " '66',\n",
       " 'pp',\n",
       " '60',\n",
       " 'unio',\n",
       " '43',\n",
       " 'guanyemjunt']"
      ]
     },
     "execution_count": 76,
     "metadata": {},
     "output_type": "execute_result"
    }
   ],
   "source": [
    "stems = fun.stem(words)\n",
    "stems"
   ]
  },
  {
   "cell_type": "code",
   "execution_count": 77,
   "metadata": {},
   "outputs": [
    {
     "data": {
      "text/plain": [
       "{'oliana': True,\n",
       " '84,39': True,\n",
       " 'participació': True,\n",
       " 'resultat': True,\n",
       " '811': True,\n",
       " 'cup': True,\n",
       " '76': True,\n",
       " 'ciutadan': True,\n",
       " '61': True,\n",
       " 'catalunya': True,\n",
       " 'si': True,\n",
       " 'q': True,\n",
       " 'pot': True,\n",
       " '28': True,\n",
       " 'psc': True,\n",
       " '66': True,\n",
       " 'pp': True,\n",
       " '60': True,\n",
       " 'unio': True,\n",
       " '43': True,\n",
       " 'guanyemjunt': True}"
      ]
     },
     "execution_count": 77,
     "metadata": {},
     "output_type": "execute_result"
    }
   ],
   "source": [
    "bag_of_words = fun.bag_of_words(stems)\n",
    "bag_of_words"
   ]
  },
  {
   "cell_type": "markdown",
   "metadata": {},
   "source": [
    "## Pre-processing dataset"
   ]
  },
  {
   "cell_type": "code",
   "execution_count": 78,
   "metadata": {},
   "outputs": [
    {
     "data": {
      "text/plain": [
       "[({'gallina': True,\n",
       "   'piel': True,\n",
       "   'emocionada': True,\n",
       "   'somlahistoria': True,\n",
       "   '27': True,\n",
       "   'catalunya': True,\n",
       "   'democracia': True},\n",
       "  'CAT'),\n",
       " ({'bon': True,\n",
       "   'dia': True,\n",
       "   'aquest': True,\n",
       "   'diumeng': True,\n",
       "   'és': True,\n",
       "   'molt': True,\n",
       "   'millor': True,\n",
       "   'qualsevol': True,\n",
       "   'divendr': True,\n",
       "   'somrient': True,\n",
       "   '27': True},\n",
       "  'CAT')]"
      ]
     },
     "execution_count": 78,
     "metadata": {},
     "output_type": "execute_result"
    }
   ],
   "source": [
    "pipeline = [\n",
    "    fun.remove_characters_from_tweet,\n",
    "    fun.tokenize,\n",
    "    fun.filter_tokens,\n",
    "    fun.stem,\n",
    "    fun.bag_of_words\n",
    "]\n",
    "\n",
    "data = fun.labeled_featureset(tweets, pipeline)\n",
    "data[:2]"
   ]
  },
  {
   "cell_type": "markdown",
   "metadata": {},
   "source": [
    "## Predicting with a NaiveBayesClassifier"
   ]
  },
  {
   "cell_type": "code",
   "execution_count": 85,
   "metadata": {},
   "outputs": [
    {
     "name": "stderr",
     "output_type": "stream",
     "text": [
      "[nltk_data] Downloading package stopwords to\n",
      "[nltk_data]     /home/sapagat/nltk_data...\n",
      "[nltk_data]   Package stopwords is already up-to-date!\n"
     ]
    },
    {
     "data": {
      "text/plain": [
       "0.9738872403560831"
      ]
     },
     "execution_count": 85,
     "metadata": {},
     "output_type": "execute_result"
    }
   ],
   "source": [
    "TEST_SIZE = 0.2\n",
    "\n",
    "result = fun.classify_with_naive_bayes(data, TEST_SIZE)\n",
    "result['accuracy']"
   ]
  },
  {
   "cell_type": "markdown",
   "metadata": {},
   "source": [
    "## Analysis of the results"
   ]
  },
  {
   "cell_type": "code",
   "execution_count": 87,
   "metadata": {},
   "outputs": [
    {
     "name": "stdout",
     "output_type": "stream",
     "text": [
      "Most Informative Features\n",
      "               escrutado = True              SPA : CAT    =    134.9 : 1.0\n",
      "                  españa = True              SPA : CAT    =    120.3 : 1.0\n",
      "               resultado = True              SPA : CAT    =    113.7 : 1.0\n",
      "                  escaño = True              SPA : CAT    =    105.6 : 1.0\n",
      "                      és = True              CAT : SPA    =    100.5 : 1.0\n",
      "                      hi = True              CAT : SPA    =     93.6 : 1.0\n",
      "                   votat = True              CAT : SPA    =     93.2 : 1.0\n",
      "                     amb = True              CAT : SPA    =     80.8 : 1.0\n",
      "                   ahora = True              SPA : CAT    =     77.2 : 1.0\n",
      "                      mé = True              CAT : SPA    =     75.4 : 1.0\n"
     ]
    }
   ],
   "source": [
    "classifier = result['classifier']\n",
    "classifier.show_most_informative_features(10)"
   ]
  },
  {
   "cell_type": "code",
   "execution_count": null,
   "metadata": {},
   "outputs": [],
   "source": []
  }
 ],
 "metadata": {
  "kernelspec": {
   "display_name": "Python 3",
   "language": "python",
   "name": "python3"
  },
  "language_info": {
   "codemirror_mode": {
    "name": "ipython",
    "version": 3
   },
   "file_extension": ".py",
   "mimetype": "text/x-python",
   "name": "python",
   "nbconvert_exporter": "python",
   "pygments_lexer": "ipython3",
   "version": "3.7.1"
  }
 },
 "nbformat": 4,
 "nbformat_minor": 2
}
