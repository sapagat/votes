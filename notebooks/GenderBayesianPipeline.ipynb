{
 "cells": [
  {
   "cell_type": "code",
   "execution_count": 7,
   "metadata": {},
   "outputs": [
    {
     "name": "stdout",
     "output_type": "stream",
     "text": [
      "The autoreload extension is already loaded. To reload it, use:\n",
      "  %reload_ext autoreload\n"
     ]
    }
   ],
   "source": [
    "import utils.functions as fun\n",
    "from utils import dataset\n",
    "\n",
    "%load_ext autoreload\n",
    "%autoreload 2"
   ]
  },
  {
   "cell_type": "markdown",
   "metadata": {},
   "source": [
    "## Parse input"
   ]
  },
  {
   "cell_type": "code",
   "execution_count": 8,
   "metadata": {},
   "outputs": [
    {
     "data": {
      "text/plain": [
       "[{'tweet_id': '164',\n",
       "  'category': 'MALE',\n",
       "  'text': \"Ara és l'hora! A votar! #27s\"},\n",
       " {'tweet_id': '3296',\n",
       "  'category': 'MALE',\n",
       "  'text': '#27STV3 Em sembla que Catalunya ha fet un CUP a la taula i ha dit prou...'},\n",
       " {'tweet_id': '39',\n",
       "  'category': 'MALE',\n",
       "  'text': 'Ara volen contar vots?? Que comencin pel vot exterior #27S #SomLaHistoria'},\n",
       " {'tweet_id': '6753',\n",
       "  'category': 'MALE',\n",
       "  'text': \"#cataluña (1) Mas no ha encontrado esa 'mayoría abrumadora' qe buscaba. Dependerà de los anticapitalistas de la CUP... qué paradoja!\"},\n",
       " {'tweet_id': '5135',\n",
       "  'category': 'MALE',\n",
       "  'text': 'DE PEN DE PEN DEN CÍA!!!!!!! Gritos de Junts pel Sí hacia los de la CUP. #eleccionescatalanas'}]"
      ]
     },
     "execution_count": 8,
     "metadata": {},
     "output_type": "execute_result"
    }
   ],
   "source": [
    "tweets = dataset.read_tweets('DatasetMaFe')\n",
    "tweets[:5]"
   ]
  },
  {
   "cell_type": "markdown",
   "metadata": {},
   "source": [
    "## Pre-processing dataset"
   ]
  },
  {
   "cell_type": "code",
   "execution_count": 9,
   "metadata": {},
   "outputs": [
    {
     "data": {
      "text/plain": [
       "[({'ara': True, 'és': True, \"l'hora\": True, 'votar': True, '27': True},\n",
       "  'MALE'),\n",
       " ({'27stv3': True,\n",
       "   'em': True,\n",
       "   'sembla': True,\n",
       "   'catalunya': True,\n",
       "   'fet': True,\n",
       "   'cup': True,\n",
       "   'taula': True,\n",
       "   'i': True,\n",
       "   'dit': True,\n",
       "   'prou': True,\n",
       "   '...': True},\n",
       "  'MALE')]"
      ]
     },
     "execution_count": 9,
     "metadata": {},
     "output_type": "execute_result"
    }
   ],
   "source": [
    "pipeline = [\n",
    "    fun.remove_characters_from_tweet,\n",
    "    fun.tokenize,\n",
    "    fun.filter_tokens,\n",
    "    fun.stem,\n",
    "    fun.bag_of_words\n",
    "]\n",
    "\n",
    "data = fun.labeled_featureset(tweets, pipeline)\n",
    "data[:2]"
   ]
  },
  {
   "cell_type": "markdown",
   "metadata": {},
   "source": [
    "## Predicting with a NaiveBayesClassifier"
   ]
  },
  {
   "cell_type": "code",
   "execution_count": 10,
   "metadata": {},
   "outputs": [
    {
     "data": {
      "text/plain": [
       "0.6539365452408931"
      ]
     },
     "execution_count": 10,
     "metadata": {},
     "output_type": "execute_result"
    }
   ],
   "source": [
    "TEST_SIZE = 0.2\n",
    "\n",
    "result = fun.classify_with_naive_bayes(data, TEST_SIZE)\n",
    "result['accuracy']"
   ]
  },
  {
   "cell_type": "markdown",
   "metadata": {},
   "source": [
    "## Analysis of the results"
   ]
  },
  {
   "cell_type": "code",
   "execution_count": 11,
   "metadata": {},
   "outputs": [
    {
     "name": "stdout",
     "output_type": "stream",
     "text": [
      "Most Informative Features\n",
      "                 seguint = True           FEMALE : MALE   =     21.2 : 1.0\n",
      "                      jp = True             MALE : FEMALE =     14.9 : 1.0\n",
      "             jojahevotat = True           FEMALE : MALE   =     13.8 : 1.0\n",
      "                   feliç = True           FEMALE : MALE   =     11.8 : 1.0\n",
      "                       0 = True             MALE : FEMALE =     11.7 : 1.0\n",
      "              referèndum = True             MALE : FEMALE =     11.6 : 1.0\n",
      "                  emoció = True           FEMALE : MALE   =     11.1 : 1.0\n",
      "                      rt = True           FEMALE : MALE   =     10.4 : 1.0\n",
      "                 emocion = True           FEMALE : MALE   =      9.7 : 1.0\n",
      "                      48 = True             MALE : FEMALE =      8.9 : 1.0\n"
     ]
    }
   ],
   "source": [
    "classifier = result['classifier']\n",
    "classifier.show_most_informative_features(10)"
   ]
  }
 ],
 "metadata": {
  "kernelspec": {
   "display_name": "Python 3",
   "language": "python",
   "name": "python3"
  },
  "language_info": {
   "codemirror_mode": {
    "name": "ipython",
    "version": 3
   },
   "file_extension": ".py",
   "mimetype": "text/x-python",
   "name": "python",
   "nbconvert_exporter": "python",
   "pygments_lexer": "ipython3",
   "version": "3.6.6"
  }
 },
 "nbformat": 4,
 "nbformat_minor": 2
}
