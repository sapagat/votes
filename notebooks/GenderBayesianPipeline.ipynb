{
 "cells": [
  {
   "cell_type": "code",
   "execution_count": 12,
   "metadata": {},
   "outputs": [
    {
     "name": "stdout",
     "output_type": "stream",
     "text": [
      "The autoreload extension is already loaded. To reload it, use:\n",
      "  %reload_ext autoreload\n"
     ]
    }
   ],
   "source": [
    "import utils.functions as fun\n",
    "\n",
    "%load_ext autoreload\n",
    "%autoreload 2"
   ]
  },
  {
   "cell_type": "markdown",
   "metadata": {},
   "source": [
    "## Parse input"
   ]
  },
  {
   "cell_type": "code",
   "execution_count": 13,
   "metadata": {},
   "outputs": [
    {
     "data": {
      "text/plain": [
       "[{'tweet_id': '164',\n",
       "  'category': 'MALE',\n",
       "  'text': \"Ara és l'hora! A votar! #27s\"},\n",
       " {'tweet_id': '3296',\n",
       "  'category': 'MALE',\n",
       "  'text': '#27STV3 Em sembla que Catalunya ha fet un CUP a la taula i ha dit prou...'},\n",
       " {'tweet_id': '39',\n",
       "  'category': 'MALE',\n",
       "  'text': 'Ara volen contar vots?? Que comencin pel vot exterior #27S #SomLaHistoria'},\n",
       " {'tweet_id': '6753',\n",
       "  'category': 'MALE',\n",
       "  'text': \"#cataluña (1) Mas no ha encontrado esa 'mayoría abrumadora' qe buscaba. Dependerà de los anticapitalistas de la CUP... qué paradoja!\"},\n",
       " {'tweet_id': '5135',\n",
       "  'category': 'MALE',\n",
       "  'text': 'DE PEN DE PEN DEN CÍA!!!!!!! Gritos de Junts pel Sí hacia los de la CUP. #eleccionescatalanas'}]"
      ]
     },
     "execution_count": 13,
     "metadata": {},
     "output_type": "execute_result"
    }
   ],
   "source": [
    "tweets = fun.parse_input_as_dictonary('DatasetMaFe')\n",
    "tweets[:5]"
   ]
  },
  {
   "cell_type": "markdown",
   "metadata": {},
   "source": [
    "## Pre-processing of a tweet"
   ]
  },
  {
   "cell_type": "code",
   "execution_count": 14,
   "metadata": {},
   "outputs": [
    {
     "data": {
      "text/plain": [
       "'A #Oliana: 84,39% participació. Resultats @JuntsPelSi 811 Cup 76 Ciutadans 61 Catalunya si q es pot 28 Psc 66 Pp 60 Unio 43 #GuanyemJunts'"
      ]
     },
     "execution_count": 14,
     "metadata": {},
     "output_type": "execute_result"
    }
   ],
   "source": [
    "a_tweet = \"A #Oliana: 84,39% participació. Resultats @JuntsPelSi 811 Cup 76 Ciutadans 61 Catalunya si q es pot 28 Psc 66 Pp 60 Unio 43 #GuanyemJunts\"\n",
    "a_tweet"
   ]
  },
  {
   "cell_type": "code",
   "execution_count": 15,
   "metadata": {},
   "outputs": [
    {
     "data": {
      "text/plain": [
       "'A Oliana: 84,39% participació. Resultats @JuntsPelSi 811 Cup 76 Ciutadans 61 Catalunya si q es pot 28 Psc 66 Pp 60 Unio 43 GuanyemJunts'"
      ]
     },
     "execution_count": 15,
     "metadata": {},
     "output_type": "execute_result"
    }
   ],
   "source": [
    "clean_tweet = fun.remove_characters_from_tweet(a_tweet)\n",
    "clean_tweet"
   ]
  },
  {
   "cell_type": "code",
   "execution_count": 16,
   "metadata": {},
   "outputs": [
    {
     "data": {
      "text/plain": [
       "['a',\n",
       " 'oliana',\n",
       " ':',\n",
       " '84,39',\n",
       " '%',\n",
       " 'participació',\n",
       " '.',\n",
       " 'resultats',\n",
       " '811',\n",
       " 'cup',\n",
       " '76',\n",
       " 'ciutadans',\n",
       " '61',\n",
       " 'catalunya',\n",
       " 'si',\n",
       " 'q',\n",
       " 'es',\n",
       " 'pot',\n",
       " '28',\n",
       " 'psc',\n",
       " '66',\n",
       " 'pp',\n",
       " '60',\n",
       " 'unio',\n",
       " '43',\n",
       " 'guanyemjunts']"
      ]
     },
     "execution_count": 16,
     "metadata": {},
     "output_type": "execute_result"
    }
   ],
   "source": [
    "tokens = fun.tokenize(clean_tweet)\n",
    "tokens"
   ]
  },
  {
   "cell_type": "code",
   "execution_count": 17,
   "metadata": {},
   "outputs": [
    {
     "data": {
      "text/plain": [
       "['oliana',\n",
       " '84,39',\n",
       " 'participació',\n",
       " 'resultats',\n",
       " '811',\n",
       " 'cup',\n",
       " '76',\n",
       " 'ciutadans',\n",
       " '61',\n",
       " 'catalunya',\n",
       " 'si',\n",
       " 'q',\n",
       " 'pot',\n",
       " '28',\n",
       " 'psc',\n",
       " '66',\n",
       " 'pp',\n",
       " '60',\n",
       " 'unio',\n",
       " '43',\n",
       " 'guanyemjunts']"
      ]
     },
     "execution_count": 17,
     "metadata": {},
     "output_type": "execute_result"
    }
   ],
   "source": [
    "words = fun.filter_tokens(tokens)\n",
    "words"
   ]
  },
  {
   "cell_type": "code",
   "execution_count": 18,
   "metadata": {},
   "outputs": [
    {
     "data": {
      "text/plain": [
       "['oliana',\n",
       " '84,39',\n",
       " 'participació',\n",
       " 'resultat',\n",
       " '811',\n",
       " 'cup',\n",
       " '76',\n",
       " 'ciutadan',\n",
       " '61',\n",
       " 'catalunya',\n",
       " 'si',\n",
       " 'q',\n",
       " 'pot',\n",
       " '28',\n",
       " 'psc',\n",
       " '66',\n",
       " 'pp',\n",
       " '60',\n",
       " 'unio',\n",
       " '43',\n",
       " 'guanyemjunt']"
      ]
     },
     "execution_count": 18,
     "metadata": {},
     "output_type": "execute_result"
    }
   ],
   "source": [
    "stems = fun.stem(words)\n",
    "stems"
   ]
  },
  {
   "cell_type": "code",
   "execution_count": 19,
   "metadata": {},
   "outputs": [
    {
     "data": {
      "text/plain": [
       "{'oliana': True,\n",
       " '84,39': True,\n",
       " 'participació': True,\n",
       " 'resultat': True,\n",
       " '811': True,\n",
       " 'cup': True,\n",
       " '76': True,\n",
       " 'ciutadan': True,\n",
       " '61': True,\n",
       " 'catalunya': True,\n",
       " 'si': True,\n",
       " 'q': True,\n",
       " 'pot': True,\n",
       " '28': True,\n",
       " 'psc': True,\n",
       " '66': True,\n",
       " 'pp': True,\n",
       " '60': True,\n",
       " 'unio': True,\n",
       " '43': True,\n",
       " 'guanyemjunt': True}"
      ]
     },
     "execution_count": 19,
     "metadata": {},
     "output_type": "execute_result"
    }
   ],
   "source": [
    "bag_of_words = fun.bag_of_words(stems)\n",
    "bag_of_words"
   ]
  },
  {
   "cell_type": "markdown",
   "metadata": {},
   "source": [
    "## Pre-processing dataset"
   ]
  },
  {
   "cell_type": "code",
   "execution_count": 20,
   "metadata": {},
   "outputs": [
    {
     "data": {
      "text/plain": [
       "[({'ara': True, 'és': True, \"l'hora\": True, 'votar': True, '27': True},\n",
       "  'MALE'),\n",
       " ({'27stv3': True,\n",
       "   'em': True,\n",
       "   'sembla': True,\n",
       "   'catalunya': True,\n",
       "   'fet': True,\n",
       "   'cup': True,\n",
       "   'taula': True,\n",
       "   'i': True,\n",
       "   'dit': True,\n",
       "   'prou': True,\n",
       "   '...': True},\n",
       "  'MALE')]"
      ]
     },
     "execution_count": 20,
     "metadata": {},
     "output_type": "execute_result"
    }
   ],
   "source": [
    "pipeline = [\n",
    "    fun.remove_characters_from_tweet,\n",
    "    fun.tokenize,\n",
    "    fun.filter_tokens,\n",
    "    fun.stem,\n",
    "    fun.bag_of_words\n",
    "]\n",
    "\n",
    "data = fun.labeled_featureset(tweets, pipeline)\n",
    "data[:2]"
   ]
  },
  {
   "cell_type": "markdown",
   "metadata": {},
   "source": [
    "## Predicting with a NaiveBayesClassifier"
   ]
  },
  {
   "cell_type": "code",
   "execution_count": 21,
   "metadata": {},
   "outputs": [
    {
     "data": {
      "text/plain": [
       "0.6627497062279671"
      ]
     },
     "execution_count": 21,
     "metadata": {},
     "output_type": "execute_result"
    }
   ],
   "source": [
    "TEST_SIZE = 0.2\n",
    "\n",
    "result = fun.classify_with_naive_bayes(data, TEST_SIZE)\n",
    "result['accuracy']"
   ]
  },
  {
   "cell_type": "markdown",
   "metadata": {},
   "source": [
    "## Analysis of the results"
   ]
  },
  {
   "cell_type": "code",
   "execution_count": 22,
   "metadata": {},
   "outputs": [
    {
     "name": "stdout",
     "output_type": "stream",
     "text": [
      "Most Informative Features\n",
      "                      jp = True             MALE : FEMALE =     23.6 : 1.0\n",
      "                   mòbil = True           FEMALE : MALE   =     21.7 : 1.0\n",
      "             jojahevotat = True           FEMALE : MALE   =     15.0 : 1.0\n",
      "                 seguint = True           FEMALE : MALE   =     11.0 : 1.0\n",
      "                       0 = True             MALE : FEMALE =     10.2 : 1.0\n",
      "                 atenció = True             MALE : FEMALE =      9.0 : 1.0\n",
      "                      48 = True             MALE : FEMALE =      8.6 : 1.0\n",
      "                 emocion = True           FEMALE : MALE   =      8.3 : 1.0\n",
      "          independentist = True             MALE : FEMALE =      8.3 : 1.0\n",
      "               aplicació = True           FEMALE : MALE   =      7.9 : 1.0\n"
     ]
    }
   ],
   "source": [
    "classifier = result['classifier']\n",
    "classifier.show_most_informative_features(10)"
   ]
  },
  {
   "cell_type": "code",
   "execution_count": null,
   "metadata": {},
   "outputs": [],
   "source": []
  },
  {
   "cell_type": "code",
   "execution_count": null,
   "metadata": {},
   "outputs": [],
   "source": []
  }
 ],
 "metadata": {
  "kernelspec": {
   "display_name": "Python 3",
   "language": "python",
   "name": "python3"
  },
  "language_info": {
   "codemirror_mode": {
    "name": "ipython",
    "version": 3
   },
   "file_extension": ".py",
   "mimetype": "text/x-python",
   "name": "python",
   "nbconvert_exporter": "python",
   "pygments_lexer": "ipython3",
   "version": "3.6.6"
  }
 },
 "nbformat": 4,
 "nbformat_minor": 2
}
