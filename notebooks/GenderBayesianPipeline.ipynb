{
 "cells": [
  {
   "cell_type": "code",
   "execution_count": 1,
   "metadata": {},
   "outputs": [],
   "source": [
    "from utils import dataset\n",
    "from utils import nlp\n",
    "from utils import classifiers\n",
    "\n",
    "%load_ext autoreload\n",
    "%autoreload 2"
   ]
  },
  {
   "cell_type": "markdown",
   "metadata": {},
   "source": [
    "## Parse input"
   ]
  },
  {
   "cell_type": "code",
   "execution_count": 2,
   "metadata": {},
   "outputs": [
    {
     "data": {
      "text/plain": [
       "[{'tweet_id': '4120',\n",
       "  'category': 'MALE',\n",
       "  'text': 'A Catalunya hi ha més votants del PP que de la CUP. #eleccionescatalanas'},\n",
       " {'tweet_id': '7605',\n",
       "  'category': 'FEMALE',\n",
       "  'text': 'Récord histórico de participación en los comicios catalanes #27s #jornadahistórica #eleccionescatalanas'},\n",
       " {'tweet_id': '3656',\n",
       "  'category': 'MALE',\n",
       "  'text': \"A #santsadurni Meses 4/19 JxSi: 702 CUP: 153 CSQEP: 141 C's: 183 PSC: 230 Pp: 103 Unió: 27 Altres: 5 Blanc: 1 Nuls: 1 #GuanyemJunts\"},\n",
       " {'tweet_id': '1975',\n",
       "  'category': 'FEMALE',\n",
       "  'text': 'Avui sereu determinants. #27S2015 #27s #27SEbre #catalunya #independència #iaios #catalonia #vote… https://t.co/3z0mFaO8UB'},\n",
       " {'tweet_id': '4349',\n",
       "  'category': 'MALE',\n",
       "  'text': 'De momento Catalunya si que es pot es un hostiazo estrepitoso si es que el que mucho abarca poco aprieta #eleccionescatalanas'}]"
      ]
     },
     "execution_count": 2,
     "metadata": {},
     "output_type": "execute_result"
    }
   ],
   "source": [
    "tweets = dataset.read_tweets('DatasetMaFe')\n",
    "tweets[:5]"
   ]
  },
  {
   "cell_type": "markdown",
   "metadata": {},
   "source": [
    "## Pre-processing dataset"
   ]
  },
  {
   "cell_type": "code",
   "execution_count": 3,
   "metadata": {},
   "outputs": [
    {
     "data": {
      "text/plain": [
       "[({'catalunya': True,\n",
       "   'hi': True,\n",
       "   'mé': True,\n",
       "   'votant': True,\n",
       "   'pp': True,\n",
       "   'cup': True,\n",
       "   'eleccionescatalana': True},\n",
       "  'MALE'),\n",
       " ({'récord': True,\n",
       "   'histórico': True,\n",
       "   'participación': True,\n",
       "   'comicio': True,\n",
       "   'catalan': True,\n",
       "   '27': True,\n",
       "   'jornadahistórica': True,\n",
       "   'eleccionescatalana': True},\n",
       "  'FEMALE')]"
      ]
     },
     "execution_count": 3,
     "metadata": {},
     "output_type": "execute_result"
    }
   ],
   "source": [
    "data = nlp.run_pipeline(tweets, [\n",
    "    nlp.remove_old_style_retweet_text,\n",
    "    nlp.remove_hyperlinks,\n",
    "    nlp.remove_hashtags,\n",
    "    nlp.tokenize,\n",
    "    nlp.reject_stopwords,\n",
    "    nlp.reject_emoticons,\n",
    "    nlp.reject_punctuations,\n",
    "    nlp.stem,\n",
    "    nlp.bag_of_words\n",
    "])\n",
    "data[:2]"
   ]
  },
  {
   "cell_type": "markdown",
   "metadata": {},
   "source": [
    "## Predicting with a NaiveBayesClassifier"
   ]
  },
  {
   "cell_type": "code",
   "execution_count": 4,
   "metadata": {},
   "outputs": [
    {
     "data": {
      "text/plain": [
       "0.6127167630057804"
      ]
     },
     "execution_count": 4,
     "metadata": {},
     "output_type": "execute_result"
    }
   ],
   "source": [
    "TEST_SIZE = 0.2\n",
    "\n",
    "result = classifiers.classify_with_naive_bayes(data, TEST_SIZE)\n",
    "result['accuracy']"
   ]
  },
  {
   "cell_type": "markdown",
   "metadata": {},
   "source": [
    "## Analysis of the results"
   ]
  },
  {
   "cell_type": "code",
   "execution_count": 5,
   "metadata": {},
   "outputs": [
    {
     "name": "stdout",
     "output_type": "stream",
     "text": [
      "Most Informative Features\n",
      "                   csqep = True             MALE : FEMALE =      6.6 : 1.0\n",
      "                     fer = True             MALE : FEMALE =      5.9 : 1.0\n",
      "                 colegio = True           FEMALE : MALE   =      4.8 : 1.0\n",
      "                      63 = True             MALE : FEMALE =      4.5 : 1.0\n",
      "                     pue = True             MALE : FEMALE =      4.5 : 1.0\n",
      "                       7 = True             MALE : FEMALE =      4.5 : 1.0\n",
      "       elvotdelamevavida = True           FEMALE : MALE   =      4.2 : 1.0\n",
      "                  seguir = True           FEMALE : MALE   =      4.2 : 1.0\n",
      "                escrutat = True             MALE : FEMALE =      3.9 : 1.0\n",
      "                   poden = True             MALE : FEMALE =      3.8 : 1.0\n"
     ]
    }
   ],
   "source": [
    "classifier = result['classifier']\n",
    "classifier.show_most_informative_features(10)"
   ]
  }
 ],
 "metadata": {
  "kernelspec": {
   "display_name": "Python 3",
   "language": "python",
   "name": "python3"
  },
  "language_info": {
   "codemirror_mode": {
    "name": "ipython",
    "version": 3
   },
   "file_extension": ".py",
   "mimetype": "text/x-python",
   "name": "python",
   "nbconvert_exporter": "python",
   "pygments_lexer": "ipython3",
   "version": "3.6.6"
  }
 },
 "nbformat": 4,
 "nbformat_minor": 2
}
