{
 "cells": [
  {
   "cell_type": "code",
   "execution_count": 4,
   "metadata": {},
   "outputs": [
    {
     "name": "stdout",
     "output_type": "stream",
     "text": [
      "The autoreload extension is already loaded. To reload it, use:\n",
      "  %reload_ext autoreload\n"
     ]
    }
   ],
   "source": [
    "from utils import frame\n",
    "\n",
    "%load_ext autoreload\n",
    "%autoreload 2"
   ]
  },
  {
   "cell_type": "code",
   "execution_count": 5,
   "metadata": {},
   "outputs": [
    {
     "data": {
      "text/html": [
       "<div>\n",
       "<style scoped>\n",
       "    .dataframe tbody tr th:only-of-type {\n",
       "        vertical-align: middle;\n",
       "    }\n",
       "\n",
       "    .dataframe tbody tr th {\n",
       "        vertical-align: top;\n",
       "    }\n",
       "\n",
       "    .dataframe thead th {\n",
       "        text-align: right;\n",
       "    }\n",
       "</style>\n",
       "<table border=\"1\" class=\"dataframe\">\n",
       "  <thead>\n",
       "    <tr style=\"text-align: right;\">\n",
       "      <th></th>\n",
       "      <th>category</th>\n",
       "      <th>text</th>\n",
       "      <th>tweet_id</th>\n",
       "    </tr>\n",
       "  </thead>\n",
       "  <tbody>\n",
       "    <tr>\n",
       "      <th>0</th>\n",
       "      <td>MALE</td>\n",
       "      <td>Ara és l'hora! A votar! #27s</td>\n",
       "      <td>164</td>\n",
       "    </tr>\n",
       "    <tr>\n",
       "      <th>1</th>\n",
       "      <td>MALE</td>\n",
       "      <td>#27STV3 Em sembla que Catalunya ha fet un CUP ...</td>\n",
       "      <td>3296</td>\n",
       "    </tr>\n",
       "    <tr>\n",
       "      <th>2</th>\n",
       "      <td>MALE</td>\n",
       "      <td>Ara volen contar vots?? Que comencin pel vot e...</td>\n",
       "      <td>39</td>\n",
       "    </tr>\n",
       "    <tr>\n",
       "      <th>3</th>\n",
       "      <td>MALE</td>\n",
       "      <td>#cataluña (1) Mas no ha encontrado esa 'mayorí...</td>\n",
       "      <td>6753</td>\n",
       "    </tr>\n",
       "    <tr>\n",
       "      <th>4</th>\n",
       "      <td>MALE</td>\n",
       "      <td>DE PEN DE PEN DEN CÍA!!!!!!! Gritos de Junts p...</td>\n",
       "      <td>5135</td>\n",
       "    </tr>\n",
       "  </tbody>\n",
       "</table>\n",
       "</div>"
      ],
      "text/plain": [
       "  category                                               text tweet_id\n",
       "0     MALE                       Ara és l'hora! A votar! #27s      164\n",
       "1     MALE  #27STV3 Em sembla que Catalunya ha fet un CUP ...     3296\n",
       "2     MALE  Ara volen contar vots?? Que comencin pel vot e...       39\n",
       "3     MALE  #cataluña (1) Mas no ha encontrado esa 'mayorí...     6753\n",
       "4     MALE  DE PEN DE PEN DEN CÍA!!!!!!! Gritos de Junts p...     5135"
      ]
     },
     "execution_count": 5,
     "metadata": {},
     "output_type": "execute_result"
    }
   ],
   "source": [
    "tweets = frame.read_tweets('DatasetMaFe')\n",
    "tweets.head()"
   ]
  },
  {
   "cell_type": "markdown",
   "metadata": {},
   "source": [
    "### Control Category Distribution"
   ]
  },
  {
   "cell_type": "code",
   "execution_count": 42,
   "metadata": {
    "scrolled": true
   },
   "outputs": [
    {
     "data": {
      "text/plain": [
       "category\n",
       "FEMALE    0.500353\n",
       "MALE      0.499647\n",
       "Name: tweet_id, dtype: float64"
      ]
     },
     "execution_count": 42,
     "metadata": {},
     "output_type": "execute_result"
    }
   ],
   "source": [
    "frame.percentage_by_category(tweets)"
   ]
  },
  {
   "cell_type": "markdown",
   "metadata": {},
   "source": [
    "### Grid Subsampling"
   ]
  },
  {
   "cell_type": "code",
   "execution_count": 43,
   "metadata": {},
   "outputs": [
    {
     "data": {
      "text/plain": [
       "{'categories': array(['MALE', 'FEMALE'], dtype=object),\n",
       " 'subsamples': [{'fraction': 0.1,\n",
       "   'replicas': [{'FEMALE': 0.5017626321974148, 'MALE': 0.4982373678025852},\n",
       "    {'FEMALE': 0.5088131609870741, 'MALE': 0.491186839012926},\n",
       "    {'MALE': 0.500587544065805, 'FEMALE': 0.4994124559341951}]},\n",
       "  {'fraction': 0.2,\n",
       "   'replicas': [{'FEMALE': 0.5052878965922444, 'MALE': 0.49471210340775557},\n",
       "    {'FEMALE': 0.5023501762632198, 'MALE': 0.49764982373678024},\n",
       "    {'FEMALE': 0.5047003525264395, 'MALE': 0.49529964747356053}]},\n",
       "  {'fraction': 0.3,\n",
       "   'replicas': [{'FEMALE': 0.5013709361535449, 'MALE': 0.49862906384645517},\n",
       "    {'FEMALE': 0.5103799451625538, 'MALE': 0.48962005483744614},\n",
       "    {'MALE': 0.5041128084606346, 'FEMALE': 0.49588719153936545}]},\n",
       "  {'fraction': 0.4,\n",
       "   'replicas': [{'MALE': 0.5020564042303173, 'FEMALE': 0.4979435957696827},\n",
       "    {'MALE': 0.5014688601645123, 'FEMALE': 0.49853113983548764},\n",
       "    {'FEMALE': 0.5076380728554641, 'MALE': 0.49236192714453586}]}]}"
      ]
     },
     "execution_count": 43,
     "metadata": {},
     "output_type": "execute_result"
    }
   ],
   "source": [
    "fractions = [0.1, 0.2, 0.3, 0.4]\n",
    "replicas = 3\n",
    "\n",
    "frame.grid_subsamples(tweets, fractions, replicas)"
   ]
  },
  {
   "cell_type": "code",
   "execution_count": null,
   "metadata": {},
   "outputs": [],
   "source": []
  }
 ],
 "metadata": {
  "kernelspec": {
   "display_name": "Python 3",
   "language": "python",
   "name": "python3"
  },
  "language_info": {
   "codemirror_mode": {
    "name": "ipython",
    "version": 3
   },
   "file_extension": ".py",
   "mimetype": "text/x-python",
   "name": "python",
   "nbconvert_exporter": "python",
   "pygments_lexer": "ipython3",
   "version": "3.6.8"
  }
 },
 "nbformat": 4,
 "nbformat_minor": 2
}
