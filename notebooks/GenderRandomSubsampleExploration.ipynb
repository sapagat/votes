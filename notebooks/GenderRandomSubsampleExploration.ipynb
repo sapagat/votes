{
 "cells": [
  {
   "cell_type": "code",
   "execution_count": 60,
   "metadata": {},
   "outputs": [
    {
     "name": "stdout",
     "output_type": "stream",
     "text": [
      "The autoreload extension is already loaded. To reload it, use:\n",
      "  %reload_ext autoreload\n"
     ]
    }
   ],
   "source": [
    "from utils import frame\n",
    "from utils import pipelines\n",
    "\n",
    "%load_ext autoreload\n",
    "%autoreload 2"
   ]
  },
  {
   "cell_type": "code",
   "execution_count": 61,
   "metadata": {},
   "outputs": [
    {
     "data": {
      "text/html": [
       "<div>\n",
       "<style scoped>\n",
       "    .dataframe tbody tr th:only-of-type {\n",
       "        vertical-align: middle;\n",
       "    }\n",
       "\n",
       "    .dataframe tbody tr th {\n",
       "        vertical-align: top;\n",
       "    }\n",
       "\n",
       "    .dataframe thead th {\n",
       "        text-align: right;\n",
       "    }\n",
       "</style>\n",
       "<table border=\"1\" class=\"dataframe\">\n",
       "  <thead>\n",
       "    <tr style=\"text-align: right;\">\n",
       "      <th></th>\n",
       "      <th>category</th>\n",
       "      <th>text</th>\n",
       "      <th>tweet_id</th>\n",
       "    </tr>\n",
       "  </thead>\n",
       "  <tbody>\n",
       "    <tr>\n",
       "      <th>0</th>\n",
       "      <td>MALE</td>\n",
       "      <td>Ara és l'hora! A votar! #27s</td>\n",
       "      <td>164</td>\n",
       "    </tr>\n",
       "    <tr>\n",
       "      <th>1</th>\n",
       "      <td>MALE</td>\n",
       "      <td>#27STV3 Em sembla que Catalunya ha fet un CUP ...</td>\n",
       "      <td>3296</td>\n",
       "    </tr>\n",
       "    <tr>\n",
       "      <th>2</th>\n",
       "      <td>MALE</td>\n",
       "      <td>Ara volen contar vots?? Que comencin pel vot e...</td>\n",
       "      <td>39</td>\n",
       "    </tr>\n",
       "    <tr>\n",
       "      <th>3</th>\n",
       "      <td>MALE</td>\n",
       "      <td>#cataluña (1) Mas no ha encontrado esa 'mayorí...</td>\n",
       "      <td>6753</td>\n",
       "    </tr>\n",
       "    <tr>\n",
       "      <th>4</th>\n",
       "      <td>MALE</td>\n",
       "      <td>DE PEN DE PEN DEN CÍA!!!!!!! Gritos de Junts p...</td>\n",
       "      <td>5135</td>\n",
       "    </tr>\n",
       "  </tbody>\n",
       "</table>\n",
       "</div>"
      ],
      "text/plain": [
       "  category                                               text tweet_id\n",
       "0     MALE                       Ara és l'hora! A votar! #27s      164\n",
       "1     MALE  #27STV3 Em sembla que Catalunya ha fet un CUP ...     3296\n",
       "2     MALE  Ara volen contar vots?? Que comencin pel vot e...       39\n",
       "3     MALE  #cataluña (1) Mas no ha encontrado esa 'mayorí...     6753\n",
       "4     MALE  DE PEN DE PEN DEN CÍA!!!!!!! Gritos de Junts p...     5135"
      ]
     },
     "execution_count": 61,
     "metadata": {},
     "output_type": "execute_result"
    }
   ],
   "source": [
    "tweets = frame.read_tweets('DatasetMaFe')\n",
    "tweets.head()"
   ]
  },
  {
   "cell_type": "code",
   "execution_count": 62,
   "metadata": {},
   "outputs": [],
   "source": [
    "FRACTIONS = [0.1, 0.2, 0.3, 0.4]\n",
    "REPLICAS = 3"
   ]
  },
  {
   "cell_type": "markdown",
   "metadata": {},
   "source": [
    "### Control Category Distribution"
   ]
  },
  {
   "cell_type": "code",
   "execution_count": 63,
   "metadata": {
    "scrolled": true
   },
   "outputs": [
    {
     "data": {
      "text/plain": [
       "{'FEMALE': 0.5003525264394829, 'MALE': 0.49964747356051703}"
      ]
     },
     "execution_count": 63,
     "metadata": {},
     "output_type": "execute_result"
    }
   ],
   "source": [
    "frame.percentage_by_category(tweets)"
   ]
  },
  {
   "cell_type": "markdown",
   "metadata": {},
   "source": [
    "### Grid Subsampling"
   ]
  },
  {
   "cell_type": "code",
   "execution_count": 64,
   "metadata": {},
   "outputs": [
    {
     "data": {
      "text/html": [
       "<div>\n",
       "<style scoped>\n",
       "    .dataframe tbody tr th:only-of-type {\n",
       "        vertical-align: middle;\n",
       "    }\n",
       "\n",
       "    .dataframe tbody tr th {\n",
       "        vertical-align: top;\n",
       "    }\n",
       "\n",
       "    .dataframe thead th {\n",
       "        text-align: right;\n",
       "    }\n",
       "</style>\n",
       "<table border=\"1\" class=\"dataframe\">\n",
       "  <thead>\n",
       "    <tr style=\"text-align: right;\">\n",
       "      <th></th>\n",
       "      <th>FEMALE</th>\n",
       "      <th>MALE</th>\n",
       "      <th>fraction</th>\n",
       "    </tr>\n",
       "  </thead>\n",
       "  <tbody>\n",
       "    <tr>\n",
       "      <th>0</th>\n",
       "      <td>0.497062</td>\n",
       "      <td>0.502938</td>\n",
       "      <td>0.1</td>\n",
       "    </tr>\n",
       "    <tr>\n",
       "      <th>1</th>\n",
       "      <td>0.528790</td>\n",
       "      <td>0.471210</td>\n",
       "      <td>0.1</td>\n",
       "    </tr>\n",
       "    <tr>\n",
       "      <th>2</th>\n",
       "      <td>0.470035</td>\n",
       "      <td>0.529965</td>\n",
       "      <td>0.1</td>\n",
       "    </tr>\n",
       "    <tr>\n",
       "      <th>3</th>\n",
       "      <td>0.496475</td>\n",
       "      <td>0.503525</td>\n",
       "      <td>0.2</td>\n",
       "    </tr>\n",
       "    <tr>\n",
       "      <th>4</th>\n",
       "      <td>0.508813</td>\n",
       "      <td>0.491187</td>\n",
       "      <td>0.2</td>\n",
       "    </tr>\n",
       "    <tr>\n",
       "      <th>5</th>\n",
       "      <td>0.502350</td>\n",
       "      <td>0.497650</td>\n",
       "      <td>0.2</td>\n",
       "    </tr>\n",
       "    <tr>\n",
       "      <th>6</th>\n",
       "      <td>0.496279</td>\n",
       "      <td>0.503721</td>\n",
       "      <td>0.3</td>\n",
       "    </tr>\n",
       "    <tr>\n",
       "      <th>7</th>\n",
       "      <td>0.506463</td>\n",
       "      <td>0.493537</td>\n",
       "      <td>0.3</td>\n",
       "    </tr>\n",
       "    <tr>\n",
       "      <th>8</th>\n",
       "      <td>0.493537</td>\n",
       "      <td>0.506463</td>\n",
       "      <td>0.3</td>\n",
       "    </tr>\n",
       "    <tr>\n",
       "      <th>9</th>\n",
       "      <td>0.504994</td>\n",
       "      <td>0.495006</td>\n",
       "      <td>0.4</td>\n",
       "    </tr>\n",
       "    <tr>\n",
       "      <th>10</th>\n",
       "      <td>0.501469</td>\n",
       "      <td>0.498531</td>\n",
       "      <td>0.4</td>\n",
       "    </tr>\n",
       "    <tr>\n",
       "      <th>11</th>\n",
       "      <td>0.488837</td>\n",
       "      <td>0.511163</td>\n",
       "      <td>0.4</td>\n",
       "    </tr>\n",
       "  </tbody>\n",
       "</table>\n",
       "</div>"
      ],
      "text/plain": [
       "      FEMALE      MALE  fraction\n",
       "0   0.497062  0.502938       0.1\n",
       "1   0.528790  0.471210       0.1\n",
       "2   0.470035  0.529965       0.1\n",
       "3   0.496475  0.503525       0.2\n",
       "4   0.508813  0.491187       0.2\n",
       "5   0.502350  0.497650       0.2\n",
       "6   0.496279  0.503721       0.3\n",
       "7   0.506463  0.493537       0.3\n",
       "8   0.493537  0.506463       0.3\n",
       "9   0.504994  0.495006       0.4\n",
       "10  0.501469  0.498531       0.4\n",
       "11  0.488837  0.511163       0.4"
      ]
     },
     "execution_count": 64,
     "metadata": {},
     "output_type": "execute_result"
    }
   ],
   "source": [
    "categories = frame.categories_proportion_matrix(tweets, FRACTIONS, REPLICAS)\n",
    "categories"
   ]
  },
  {
   "cell_type": "code",
   "execution_count": 65,
   "metadata": {},
   "outputs": [
    {
     "data": {
      "text/html": [
       "<div>\n",
       "<style scoped>\n",
       "    .dataframe tbody tr th:only-of-type {\n",
       "        vertical-align: middle;\n",
       "    }\n",
       "\n",
       "    .dataframe tbody tr th {\n",
       "        vertical-align: top;\n",
       "    }\n",
       "\n",
       "    .dataframe thead th {\n",
       "        text-align: right;\n",
       "    }\n",
       "</style>\n",
       "<table border=\"1\" class=\"dataframe\">\n",
       "  <thead>\n",
       "    <tr style=\"text-align: right;\">\n",
       "      <th></th>\n",
       "      <th>FEMALE</th>\n",
       "      <th>MALE</th>\n",
       "      <th>fraction</th>\n",
       "    </tr>\n",
       "  </thead>\n",
       "  <tbody>\n",
       "    <tr>\n",
       "      <th>count</th>\n",
       "      <td>12.000000</td>\n",
       "      <td>12.000000</td>\n",
       "      <td>12.000000</td>\n",
       "    </tr>\n",
       "    <tr>\n",
       "      <th>mean</th>\n",
       "      <td>0.499592</td>\n",
       "      <td>0.500408</td>\n",
       "      <td>0.250000</td>\n",
       "    </tr>\n",
       "    <tr>\n",
       "      <th>std</th>\n",
       "      <td>0.013745</td>\n",
       "      <td>0.013745</td>\n",
       "      <td>0.116775</td>\n",
       "    </tr>\n",
       "    <tr>\n",
       "      <th>min</th>\n",
       "      <td>0.470035</td>\n",
       "      <td>0.471210</td>\n",
       "      <td>0.100000</td>\n",
       "    </tr>\n",
       "    <tr>\n",
       "      <th>25%</th>\n",
       "      <td>0.495593</td>\n",
       "      <td>0.494639</td>\n",
       "      <td>0.175000</td>\n",
       "    </tr>\n",
       "    <tr>\n",
       "      <th>50%</th>\n",
       "      <td>0.499266</td>\n",
       "      <td>0.500734</td>\n",
       "      <td>0.250000</td>\n",
       "    </tr>\n",
       "    <tr>\n",
       "      <th>75%</th>\n",
       "      <td>0.505361</td>\n",
       "      <td>0.504407</td>\n",
       "      <td>0.325000</td>\n",
       "    </tr>\n",
       "    <tr>\n",
       "      <th>max</th>\n",
       "      <td>0.528790</td>\n",
       "      <td>0.529965</td>\n",
       "      <td>0.400000</td>\n",
       "    </tr>\n",
       "  </tbody>\n",
       "</table>\n",
       "</div>"
      ],
      "text/plain": [
       "          FEMALE       MALE   fraction\n",
       "count  12.000000  12.000000  12.000000\n",
       "mean    0.499592   0.500408   0.250000\n",
       "std     0.013745   0.013745   0.116775\n",
       "min     0.470035   0.471210   0.100000\n",
       "25%     0.495593   0.494639   0.175000\n",
       "50%     0.499266   0.500734   0.250000\n",
       "75%     0.505361   0.504407   0.325000\n",
       "max     0.528790   0.529965   0.400000"
      ]
     },
     "execution_count": 65,
     "metadata": {},
     "output_type": "execute_result"
    }
   ],
   "source": [
    "categories.describe()"
   ]
  },
  {
   "cell_type": "markdown",
   "metadata": {},
   "source": [
    "### Compara Bayesian pipeline with different subsamples"
   ]
  },
  {
   "cell_type": "code",
   "execution_count": 66,
   "metadata": {},
   "outputs": [
    {
     "data": {
      "text/plain": [
       "{'start': '2019-04-19 12:33:27.630591',\n",
       " 'finish': '2019-04-19 12:33:35.273951',\n",
       " 'accuracy': 0.6539365452408931}"
      ]
     },
     "execution_count": 66,
     "metadata": {},
     "output_type": "execute_result"
    }
   ],
   "source": [
    "pipelines.run_naive_bayesian(tweets.to_dict('records'))"
   ]
  },
  {
   "cell_type": "code",
   "execution_count": 67,
   "metadata": {},
   "outputs": [
    {
     "data": {
      "text/plain": [
       "[{'start': '2019-04-19 12:33:35.321250',\n",
       "  'finish': '2019-04-19 12:33:36.102985',\n",
       "  'accuracy': 0.5906432748538012,\n",
       "  'fraction': 0.1},\n",
       " {'start': '2019-04-19 12:33:36.111925',\n",
       "  'finish': '2019-04-19 12:33:36.891273',\n",
       "  'accuracy': 0.5964912280701754,\n",
       "  'fraction': 0.1},\n",
       " {'start': '2019-04-19 12:33:36.900377',\n",
       "  'finish': '2019-04-19 12:33:37.733641',\n",
       "  'accuracy': 0.6491228070175439,\n",
       "  'fraction': 0.1},\n",
       " {'start': '2019-04-19 12:33:37.748356',\n",
       "  'finish': '2019-04-19 12:33:39.298622',\n",
       "  'accuracy': 0.6392961876832844,\n",
       "  'fraction': 0.2},\n",
       " {'start': '2019-04-19 12:33:39.316311',\n",
       "  'finish': '2019-04-19 12:33:40.932913',\n",
       "  'accuracy': 0.6275659824046921,\n",
       "  'fraction': 0.2},\n",
       " {'start': '2019-04-19 12:33:40.949086',\n",
       "  'finish': '2019-04-19 12:33:42.478230',\n",
       "  'accuracy': 0.6275659824046921,\n",
       "  'fraction': 0.2},\n",
       " {'start': '2019-04-19 12:33:42.501340',\n",
       "  'finish': '2019-04-19 12:33:44.866256',\n",
       "  'accuracy': 0.6418786692759295,\n",
       "  'fraction': 0.3},\n",
       " {'start': '2019-04-19 12:33:44.889489',\n",
       "  'finish': '2019-04-19 12:33:47.182335',\n",
       "  'accuracy': 0.6516634050880626,\n",
       "  'fraction': 0.3},\n",
       " {'start': '2019-04-19 12:33:47.207119',\n",
       "  'finish': '2019-04-19 12:33:49.577291',\n",
       "  'accuracy': 0.6281800391389433,\n",
       "  'fraction': 0.3},\n",
       " {'start': '2019-04-19 12:33:49.607334',\n",
       "  'finish': '2019-04-19 12:33:52.741819',\n",
       "  'accuracy': 0.6519823788546255,\n",
       "  'fraction': 0.4},\n",
       " {'start': '2019-04-19 12:33:52.771227',\n",
       "  'finish': '2019-04-19 12:33:55.826632',\n",
       "  'accuracy': 0.6475770925110133,\n",
       "  'fraction': 0.4},\n",
       " {'start': '2019-04-19 12:33:55.860402',\n",
       "  'finish': '2019-04-19 12:33:59.039045',\n",
       "  'accuracy': 0.644640234948605,\n",
       "  'fraction': 0.4}]"
      ]
     },
     "execution_count": 67,
     "metadata": {},
     "output_type": "execute_result"
    }
   ],
   "source": [
    "pipelines.run_multisamples_naive_bayesian(tweets, FRACTIONS, REPLICAS)"
   ]
  },
  {
   "cell_type": "markdown",
   "metadata": {},
   "source": [
    "### Comparte SVM pipeline with different subsamples"
   ]
  },
  {
   "cell_type": "code",
   "execution_count": 68,
   "metadata": {},
   "outputs": [
    {
     "name": "stderr",
     "output_type": "stream",
     "text": [
      "/root/.local/share/virtualenvs/app-ueEJiAOq/lib/python3.6/site-packages/sklearn/svm/base.py:244: ConvergenceWarning: Solver terminated early (max_iter=500).  Consider pre-processing your data with StandardScaler or MinMaxScaler.\n",
      "  % self.max_iter, ConvergenceWarning)\n"
     ]
    },
    {
     "data": {
      "text/plain": [
       "{'start': '2019-04-19 12:33:59.127320',\n",
       " 'finish': '2019-04-19 12:37:20.291144',\n",
       " 'accuracy': 0.4770857814336075}"
      ]
     },
     "execution_count": 68,
     "metadata": {},
     "output_type": "execute_result"
    }
   ],
   "source": [
    "pipelines.run_svm(tweets.to_dict('records'))"
   ]
  },
  {
   "cell_type": "code",
   "execution_count": 69,
   "metadata": {},
   "outputs": [
    {
     "name": "stderr",
     "output_type": "stream",
     "text": [
      "/root/.local/share/virtualenvs/app-ueEJiAOq/lib/python3.6/site-packages/sklearn/svm/base.py:244: ConvergenceWarning: Solver terminated early (max_iter=500).  Consider pre-processing your data with StandardScaler or MinMaxScaler.\n",
      "  % self.max_iter, ConvergenceWarning)\n",
      "/root/.local/share/virtualenvs/app-ueEJiAOq/lib/python3.6/site-packages/sklearn/svm/base.py:244: ConvergenceWarning: Solver terminated early (max_iter=500).  Consider pre-processing your data with StandardScaler or MinMaxScaler.\n",
      "  % self.max_iter, ConvergenceWarning)\n",
      "/root/.local/share/virtualenvs/app-ueEJiAOq/lib/python3.6/site-packages/sklearn/svm/base.py:244: ConvergenceWarning: Solver terminated early (max_iter=500).  Consider pre-processing your data with StandardScaler or MinMaxScaler.\n",
      "  % self.max_iter, ConvergenceWarning)\n",
      "/root/.local/share/virtualenvs/app-ueEJiAOq/lib/python3.6/site-packages/sklearn/svm/base.py:244: ConvergenceWarning: Solver terminated early (max_iter=500).  Consider pre-processing your data with StandardScaler or MinMaxScaler.\n",
      "  % self.max_iter, ConvergenceWarning)\n",
      "/root/.local/share/virtualenvs/app-ueEJiAOq/lib/python3.6/site-packages/sklearn/svm/base.py:244: ConvergenceWarning: Solver terminated early (max_iter=500).  Consider pre-processing your data with StandardScaler or MinMaxScaler.\n",
      "  % self.max_iter, ConvergenceWarning)\n",
      "/root/.local/share/virtualenvs/app-ueEJiAOq/lib/python3.6/site-packages/sklearn/svm/base.py:244: ConvergenceWarning: Solver terminated early (max_iter=500).  Consider pre-processing your data with StandardScaler or MinMaxScaler.\n",
      "  % self.max_iter, ConvergenceWarning)\n",
      "/root/.local/share/virtualenvs/app-ueEJiAOq/lib/python3.6/site-packages/sklearn/svm/base.py:244: ConvergenceWarning: Solver terminated early (max_iter=500).  Consider pre-processing your data with StandardScaler or MinMaxScaler.\n",
      "  % self.max_iter, ConvergenceWarning)\n",
      "/root/.local/share/virtualenvs/app-ueEJiAOq/lib/python3.6/site-packages/sklearn/svm/base.py:244: ConvergenceWarning: Solver terminated early (max_iter=500).  Consider pre-processing your data with StandardScaler or MinMaxScaler.\n",
      "  % self.max_iter, ConvergenceWarning)\n",
      "/root/.local/share/virtualenvs/app-ueEJiAOq/lib/python3.6/site-packages/sklearn/svm/base.py:244: ConvergenceWarning: Solver terminated early (max_iter=500).  Consider pre-processing your data with StandardScaler or MinMaxScaler.\n",
      "  % self.max_iter, ConvergenceWarning)\n",
      "/root/.local/share/virtualenvs/app-ueEJiAOq/lib/python3.6/site-packages/sklearn/svm/base.py:244: ConvergenceWarning: Solver terminated early (max_iter=500).  Consider pre-processing your data with StandardScaler or MinMaxScaler.\n",
      "  % self.max_iter, ConvergenceWarning)\n",
      "/root/.local/share/virtualenvs/app-ueEJiAOq/lib/python3.6/site-packages/sklearn/svm/base.py:244: ConvergenceWarning: Solver terminated early (max_iter=500).  Consider pre-processing your data with StandardScaler or MinMaxScaler.\n",
      "  % self.max_iter, ConvergenceWarning)\n",
      "/root/.local/share/virtualenvs/app-ueEJiAOq/lib/python3.6/site-packages/sklearn/svm/base.py:244: ConvergenceWarning: Solver terminated early (max_iter=500).  Consider pre-processing your data with StandardScaler or MinMaxScaler.\n",
      "  % self.max_iter, ConvergenceWarning)\n"
     ]
    },
    {
     "data": {
      "text/plain": [
       "[{'start': '2019-04-19 12:37:20.361498',\n",
       "  'finish': '2019-04-19 12:37:24.196421',\n",
       "  'accuracy': 0.5614035087719298,\n",
       "  'fraction': 0.1},\n",
       " {'start': '2019-04-19 12:37:24.205646',\n",
       "  'finish': '2019-04-19 12:37:28.351589',\n",
       "  'accuracy': 0.6257309941520468,\n",
       "  'fraction': 0.1},\n",
       " {'start': '2019-04-19 12:37:28.360808',\n",
       "  'finish': '2019-04-19 12:37:32.474005',\n",
       "  'accuracy': 0.6198830409356725,\n",
       "  'fraction': 0.1},\n",
       " {'start': '2019-04-19 12:37:32.496012',\n",
       "  'finish': '2019-04-19 12:37:49.088992',\n",
       "  'accuracy': 0.592375366568915,\n",
       "  'fraction': 0.2},\n",
       " {'start': '2019-04-19 12:37:49.106645',\n",
       "  'finish': '2019-04-19 12:38:06.229352',\n",
       "  'accuracy': 0.6304985337243402,\n",
       "  'fraction': 0.2},\n",
       " {'start': '2019-04-19 12:38:06.247078',\n",
       "  'finish': '2019-04-19 12:38:23.014366',\n",
       "  'accuracy': 0.5689149560117303,\n",
       "  'fraction': 0.2},\n",
       " {'start': '2019-04-19 12:38:23.042704',\n",
       "  'finish': '2019-04-19 12:38:56.347045',\n",
       "  'accuracy': 0.589041095890411,\n",
       "  'fraction': 0.3},\n",
       " {'start': '2019-04-19 12:38:56.374722',\n",
       "  'finish': '2019-04-19 12:39:29.886282',\n",
       "  'accuracy': 0.5557729941291585,\n",
       "  'fraction': 0.3},\n",
       " {'start': '2019-04-19 12:39:29.916034',\n",
       "  'finish': '2019-04-19 12:40:02.779112',\n",
       "  'accuracy': 0.5792563600782779,\n",
       "  'fraction': 0.3},\n",
       " {'start': '2019-04-19 12:40:02.812818',\n",
       "  'finish': '2019-04-19 12:40:53.703324',\n",
       "  'accuracy': 0.5682819383259912,\n",
       "  'fraction': 0.4},\n",
       " {'start': '2019-04-19 12:40:53.739760',\n",
       "  'finish': '2019-04-19 12:41:38.116177',\n",
       "  'accuracy': 0.5682819383259912,\n",
       "  'fraction': 0.4},\n",
       " {'start': '2019-04-19 12:41:38.148826',\n",
       "  'finish': '2019-04-19 12:42:21.070382',\n",
       "  'accuracy': 0.5859030837004405,\n",
       "  'fraction': 0.4}]"
      ]
     },
     "execution_count": 69,
     "metadata": {},
     "output_type": "execute_result"
    }
   ],
   "source": [
    "pipelines.run_multisamples_svm(tweets, FRACTIONS, REPLICAS)"
   ]
  },
  {
   "cell_type": "code",
   "execution_count": null,
   "metadata": {},
   "outputs": [],
   "source": []
  }
 ],
 "metadata": {
  "kernelspec": {
   "display_name": "Python 3",
   "language": "python",
   "name": "python3"
  },
  "language_info": {
   "codemirror_mode": {
    "name": "ipython",
    "version": 3
   },
   "file_extension": ".py",
   "mimetype": "text/x-python",
   "name": "python",
   "nbconvert_exporter": "python",
   "pygments_lexer": "ipython3",
   "version": "3.6.6"
  }
 },
 "nbformat": 4,
 "nbformat_minor": 2
}
