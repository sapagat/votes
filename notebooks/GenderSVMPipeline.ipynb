{
 "cells": [
  {
   "cell_type": "code",
   "execution_count": 1,
   "metadata": {},
   "outputs": [],
   "source": [
    "from utils import dataset\n",
    "from utils import nlp\n",
    "from utils import classifiers\n",
    "\n",
    "%load_ext autoreload\n",
    "%autoreload 2"
   ]
  },
  {
   "cell_type": "markdown",
   "metadata": {},
   "source": [
    "## Parse input"
   ]
  },
  {
   "cell_type": "code",
   "execution_count": 2,
   "metadata": {},
   "outputs": [
    {
     "data": {
      "text/plain": [
       "[{'tweet_id': '4120',\n",
       "  'category': 'MALE',\n",
       "  'text': 'A Catalunya hi ha més votants del PP que de la CUP. #eleccionescatalanas'},\n",
       " {'tweet_id': '7605',\n",
       "  'category': 'FEMALE',\n",
       "  'text': 'Récord histórico de participación en los comicios catalanes #27s #jornadahistórica #eleccionescatalanas'},\n",
       " {'tweet_id': '3656',\n",
       "  'category': 'MALE',\n",
       "  'text': \"A #santsadurni Meses 4/19 JxSi: 702 CUP: 153 CSQEP: 141 C's: 183 PSC: 230 Pp: 103 Unió: 27 Altres: 5 Blanc: 1 Nuls: 1 #GuanyemJunts\"},\n",
       " {'tweet_id': '1975',\n",
       "  'category': 'FEMALE',\n",
       "  'text': 'Avui sereu determinants. #27S2015 #27s #27SEbre #catalunya #independència #iaios #catalonia #vote… https://t.co/3z0mFaO8UB'},\n",
       " {'tweet_id': '4349',\n",
       "  'category': 'MALE',\n",
       "  'text': 'De momento Catalunya si que es pot es un hostiazo estrepitoso si es que el que mucho abarca poco aprieta #eleccionescatalanas'}]"
      ]
     },
     "execution_count": 2,
     "metadata": {},
     "output_type": "execute_result"
    }
   ],
   "source": [
    "tweets = dataset.read_tweets('DatasetMaFe')\n",
    "tweets[:5]"
   ]
  },
  {
   "cell_type": "markdown",
   "metadata": {},
   "source": [
    "## Pre-processing dataset"
   ]
  },
  {
   "cell_type": "code",
   "execution_count": 3,
   "metadata": {},
   "outputs": [
    {
     "data": {
      "text/plain": [
       "[['catalunya', 'hi', 'mé', 'votant', 'pp', 'cup', 'eleccionescatalana'],\n",
       " ['récord',\n",
       "  'histórico',\n",
       "  'participación',\n",
       "  'comicio',\n",
       "  'catalan',\n",
       "  '27',\n",
       "  'jornadahistórica',\n",
       "  'eleccionescatalana']]"
      ]
     },
     "execution_count": 3,
     "metadata": {},
     "output_type": "execute_result"
    }
   ],
   "source": [
    "pipeline = [\n",
    "    nlp.remove_old_style_retweet_text,\n",
    "    nlp.remove_hyperlinks,\n",
    "    nlp.remove_hashtags,\n",
    "    nlp.tokenize,\n",
    "    nlp.reject_stopwords,\n",
    "    nlp.reject_emoticons,\n",
    "    nlp.reject_punctuations,\n",
    "    nlp.stem\n",
    "]\n",
    "\n",
    "stem_sentences = [nlp.process_unit(pipeline, tweet['text']) for tweet in tweets]\n",
    "stem_sentences[:2]"
   ]
  },
  {
   "cell_type": "code",
   "execution_count": 4,
   "metadata": {},
   "outputs": [
    {
     "name": "stdout",
     "output_type": "stream",
     "text": [
      "3044\n"
     ]
    },
    {
     "data": {
      "text/plain": [
       "array([0., 0., 0., ..., 0., 0., 0.])"
      ]
     },
     "execution_count": 4,
     "metadata": {},
     "output_type": "execute_result"
    }
   ],
   "source": [
    "result = classifiers.bag_of_words_for_svm(stem_sentences)\n",
    "print(result['vocabulary_size'])\n",
    "\n",
    "sentences = result['sentences']\n",
    "sentences[0]"
   ]
  },
  {
   "cell_type": "code",
   "execution_count": 5,
   "metadata": {},
   "outputs": [
    {
     "data": {
      "text/plain": [
       "['MALE', 'FEMALE', 'MALE']"
      ]
     },
     "execution_count": 5,
     "metadata": {},
     "output_type": "execute_result"
    }
   ],
   "source": [
    "labels = [tweet['category'] for tweet in tweets]\n",
    "labels[:3]"
   ]
  },
  {
   "cell_type": "markdown",
   "metadata": {},
   "source": [
    "## Predicting with a SVM"
   ]
  },
  {
   "cell_type": "code",
   "execution_count": 6,
   "metadata": {},
   "outputs": [
    {
     "name": "stderr",
     "output_type": "stream",
     "text": [
      "/root/.local/share/virtualenvs/app-ueEJiAOq/lib/python3.6/site-packages/sklearn/svm/base.py:244: ConvergenceWarning: Solver terminated early (max_iter=500).  Consider pre-processing your data with StandardScaler or MinMaxScaler.\n",
      "  % self.max_iter, ConvergenceWarning)\n"
     ]
    },
    {
     "data": {
      "text/plain": [
       "{'total_correct': 166, 'accuracy': 0.5804195804195804}"
      ]
     },
     "execution_count": 6,
     "metadata": {},
     "output_type": "execute_result"
    }
   ],
   "source": [
    "TEST_SIZE = 0.33\n",
    "MAX_ITERATIONS = 500\n",
    "X = sentences\n",
    "y = labels\n",
    "\n",
    "result = classifiers.classify_with_svm(X, y, TEST_SIZE, MAX_ITERATIONS)\n",
    "result"
   ]
  },
  {
   "cell_type": "code",
   "execution_count": null,
   "metadata": {},
   "outputs": [],
   "source": []
  }
 ],
 "metadata": {
  "kernelspec": {
   "display_name": "Python 3",
   "language": "python",
   "name": "python3"
  },
  "language_info": {
   "codemirror_mode": {
    "name": "ipython",
    "version": 3
   },
   "file_extension": ".py",
   "mimetype": "text/x-python",
   "name": "python",
   "nbconvert_exporter": "python",
   "pygments_lexer": "ipython3",
   "version": "3.6.6"
  }
 },
 "nbformat": 4,
 "nbformat_minor": 2
}
