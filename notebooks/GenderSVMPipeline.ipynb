{
 "cells": [
  {
   "cell_type": "code",
   "execution_count": 1,
   "metadata": {},
   "outputs": [],
   "source": [
    "import utils.functions as fun\n",
    "from utils import dataset\n",
    "\n",
    "%load_ext autoreload\n",
    "%autoreload 2"
   ]
  },
  {
   "cell_type": "markdown",
   "metadata": {},
   "source": [
    "## Parse input"
   ]
  },
  {
   "cell_type": "code",
   "execution_count": 2,
   "metadata": {},
   "outputs": [
    {
     "data": {
      "text/plain": [
       "[{'tweet_id': '164',\n",
       "  'category': 'MALE',\n",
       "  'text': \"Ara és l'hora! A votar! #27s\"},\n",
       " {'tweet_id': '3296',\n",
       "  'category': 'MALE',\n",
       "  'text': '#27STV3 Em sembla que Catalunya ha fet un CUP a la taula i ha dit prou...'},\n",
       " {'tweet_id': '39',\n",
       "  'category': 'MALE',\n",
       "  'text': 'Ara volen contar vots?? Que comencin pel vot exterior #27S #SomLaHistoria'},\n",
       " {'tweet_id': '6753',\n",
       "  'category': 'MALE',\n",
       "  'text': \"#cataluña (1) Mas no ha encontrado esa 'mayoría abrumadora' qe buscaba. Dependerà de los anticapitalistas de la CUP... qué paradoja!\"},\n",
       " {'tweet_id': '5135',\n",
       "  'category': 'MALE',\n",
       "  'text': 'DE PEN DE PEN DEN CÍA!!!!!!! Gritos de Junts pel Sí hacia los de la CUP. #eleccionescatalanas'}]"
      ]
     },
     "execution_count": 2,
     "metadata": {},
     "output_type": "execute_result"
    }
   ],
   "source": [
    "tweets = dataset.read_tweets('DatasetMaFe')\n",
    "tweets[:5]"
   ]
  },
  {
   "cell_type": "markdown",
   "metadata": {},
   "source": [
    "## Pre-processing dataset"
   ]
  },
  {
   "cell_type": "code",
   "execution_count": 3,
   "metadata": {},
   "outputs": [
    {
     "data": {
      "text/plain": [
       "[['ara', 'és', \"l'hora\", 'votar', '27'],\n",
       " ['27stv3',\n",
       "  'em',\n",
       "  'sembla',\n",
       "  'catalunya',\n",
       "  'fet',\n",
       "  'cup',\n",
       "  'taula',\n",
       "  'i',\n",
       "  'dit',\n",
       "  'prou',\n",
       "  '...']]"
      ]
     },
     "execution_count": 3,
     "metadata": {},
     "output_type": "execute_result"
    }
   ],
   "source": [
    "pipeline = [\n",
    "    fun.remove_characters_from_tweet,\n",
    "    fun.tokenize,\n",
    "    fun.filter_tokens,\n",
    "    fun.stem\n",
    "]\n",
    "\n",
    "stem_sentences = [fun.run_pipeline(pipeline, tweet['text']) for tweet in tweets]\n",
    "stem_sentences[:2]"
   ]
  },
  {
   "cell_type": "code",
   "execution_count": 4,
   "metadata": {},
   "outputs": [
    {
     "name": "stdout",
     "output_type": "stream",
     "text": [
      "13821\n"
     ]
    },
    {
     "data": {
      "text/plain": [
       "array([0., 0., 0., ..., 0., 0., 0.])"
      ]
     },
     "execution_count": 4,
     "metadata": {},
     "output_type": "execute_result"
    }
   ],
   "source": [
    "result = fun.bag_of_words_for_svm(stem_sentences)\n",
    "print(result['vocabulary_size'])\n",
    "\n",
    "sentences = result['sentences']\n",
    "sentences[0]"
   ]
  },
  {
   "cell_type": "code",
   "execution_count": 5,
   "metadata": {},
   "outputs": [
    {
     "data": {
      "text/plain": [
       "['MALE', 'MALE', 'MALE']"
      ]
     },
     "execution_count": 5,
     "metadata": {},
     "output_type": "execute_result"
    }
   ],
   "source": [
    "labels = [tweet['category'] for tweet in tweets]\n",
    "labels[:3]"
   ]
  },
  {
   "cell_type": "markdown",
   "metadata": {},
   "source": [
    "## Predicting with a SVM"
   ]
  },
  {
   "cell_type": "code",
   "execution_count": 6,
   "metadata": {},
   "outputs": [
    {
     "name": "stderr",
     "output_type": "stream",
     "text": [
      "/root/.local/share/virtualenvs/app-ueEJiAOq/lib/python3.6/site-packages/sklearn/svm/base.py:244: ConvergenceWarning: Solver terminated early (max_iter=500).  Consider pre-processing your data with StandardScaler or MinMaxScaler.\n",
      "  % self.max_iter, ConvergenceWarning)\n"
     ]
    },
    {
     "data": {
      "text/plain": [
       "{'total_correct': 1450, 'accuracy': 0.5161979352082592}"
      ]
     },
     "execution_count": 6,
     "metadata": {},
     "output_type": "execute_result"
    }
   ],
   "source": [
    "TEST_SIZE = 0.33\n",
    "MAX_ITERATIONS = 500\n",
    "X = sentences\n",
    "y = labels\n",
    "\n",
    "result = fun.classify_with_svm(X, y, TEST_SIZE, MAX_ITERATIONS)\n",
    "result"
   ]
  },
  {
   "cell_type": "code",
   "execution_count": null,
   "metadata": {},
   "outputs": [],
   "source": []
  }
 ],
 "metadata": {
  "kernelspec": {
   "display_name": "Python 3",
   "language": "python",
   "name": "python3"
  },
  "language_info": {
   "codemirror_mode": {
    "name": "ipython",
    "version": 3
   },
   "file_extension": ".py",
   "mimetype": "text/x-python",
   "name": "python",
   "nbconvert_exporter": "python",
   "pygments_lexer": "ipython3",
   "version": "3.6.6"
  }
 },
 "nbformat": 4,
 "nbformat_minor": 2
}
