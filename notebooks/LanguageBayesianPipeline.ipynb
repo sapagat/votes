{
 "cells": [
  {
   "cell_type": "code",
   "execution_count": 1,
   "metadata": {},
   "outputs": [],
   "source": [
    "from utils import dataset\n",
    "from utils import nlp\n",
    "from utils import classifiers\n",
    "\n",
    "%load_ext autoreload\n",
    "%autoreload 2"
   ]
  },
  {
   "cell_type": "markdown",
   "metadata": {},
   "source": [
    "## Parse input"
   ]
  },
  {
   "cell_type": "code",
   "execution_count": 2,
   "metadata": {},
   "outputs": [
    {
     "data": {
      "text/plain": [
       "[{'tweet_id': '4717',\n",
       "  'category': 'SPA',\n",
       "  'text': \"Con el 56,3% escrutado: JPS 62 escaños, C's 25, PSC 17, PP 11, CSQP 10, CUP 10. #eleccionescatalanas\"},\n",
       " {'tweet_id': '6025',\n",
       "  'category': 'SPA',\n",
       "  'text': '.@miqueliceta lxs catalanes necesitan recuperar el estado de bienestar x eso irán hoy a votar #27S https://t.co/2W62g81dQd'},\n",
       " {'tweet_id': '6123',\n",
       "  'category': 'SPA',\n",
       "  'text': 'Creéis que un sistema judicial catalán sacará a la luz escándalos económicos de la familia Pujol? No, les darán privilegios y lo sabeis #27S'},\n",
       " {'tweet_id': '3810',\n",
       "  'category': 'CAT',\n",
       "  'text': \"Cues per anar a votar, això si que m'agrada!!!! #27S\"},\n",
       " {'tweet_id': '2193',\n",
       "  'category': 'CAT',\n",
       "  'text': 'Amb #SomriureCUP seguint l.escrutini @Elforn. @CUPGirona @cupnacional http://t.co/JfLRkFDOv8'}]"
      ]
     },
     "execution_count": 2,
     "metadata": {},
     "output_type": "execute_result"
    }
   ],
   "source": [
    "tweets = dataset.read_tweets('DatasetCatSpa')\n",
    "tweets[:5]"
   ]
  },
  {
   "cell_type": "markdown",
   "metadata": {},
   "source": [
    "## Pre-processing dataset"
   ]
  },
  {
   "cell_type": "code",
   "execution_count": 3,
   "metadata": {},
   "outputs": [
    {
     "data": {
      "text/plain": [
       "[({'56,3': True,\n",
       "   'escrutado': True,\n",
       "   'jp': True,\n",
       "   '62': True,\n",
       "   'escaño': True,\n",
       "   \"c'\": True,\n",
       "   '25': True,\n",
       "   'psc': True,\n",
       "   '17': True,\n",
       "   'pp': True,\n",
       "   '11': True,\n",
       "   'csqp': True,\n",
       "   '10': True,\n",
       "   'cup': True,\n",
       "   'eleccionescatalana': True},\n",
       "  'SPA'),\n",
       " ({'lx': True,\n",
       "   'catalan': True,\n",
       "   'necesitan': True,\n",
       "   'recuperar': True,\n",
       "   'bienestar': True,\n",
       "   'x': True,\n",
       "   'irán': True,\n",
       "   'hoy': True,\n",
       "   'votar': True,\n",
       "   '27': True},\n",
       "  'SPA')]"
      ]
     },
     "execution_count": 3,
     "metadata": {},
     "output_type": "execute_result"
    }
   ],
   "source": [
    "data = nlp.run_pipeline(tweets, [\n",
    "    nlp.remove_old_style_retweet_text,\n",
    "    nlp.remove_hyperlinks,\n",
    "    nlp.remove_hashtags,\n",
    "    nlp.tokenize,\n",
    "    nlp.reject_stopwords,\n",
    "    nlp.reject_emoticons,\n",
    "    nlp.reject_punctuations,\n",
    "    nlp.stem,\n",
    "    nlp.bag_of_words\n",
    "])\n",
    "data[:2]"
   ]
  },
  {
   "cell_type": "markdown",
   "metadata": {},
   "source": [
    "## Predicting with a NaiveBayesClassifier"
   ]
  },
  {
   "cell_type": "code",
   "execution_count": 4,
   "metadata": {},
   "outputs": [
    {
     "data": {
      "text/plain": [
       "0.9132947976878613"
      ]
     },
     "execution_count": 4,
     "metadata": {},
     "output_type": "execute_result"
    }
   ],
   "source": [
    "TEST_SIZE = 0.2\n",
    "\n",
    "result = classifiers.classify_with_naive_bayes(data, TEST_SIZE)\n",
    "result['accuracy']"
   ]
  },
  {
   "cell_type": "markdown",
   "metadata": {},
   "source": [
    "## Analysis of the results"
   ]
  },
  {
   "cell_type": "code",
   "execution_count": 5,
   "metadata": {},
   "outputs": [
    {
     "name": "stdout",
     "output_type": "stream",
     "text": [
      "Most Informative Features\n",
      "                       i = True              CAT : SPA    =     61.0 : 1.0\n",
      "                     per = True              CAT : SPA    =     42.5 : 1.0\n",
      "                       ¿ = True              SPA : CAT    =     11.9 : 1.0\n",
      "      eleccionescatalana = True              SPA : CAT    =     11.7 : 1.0\n",
      "                     dia = True              CAT : SPA    =     10.3 : 1.0\n",
      "                   l6cat = True              SPA : CAT    =      9.6 : 1.0\n",
      "              juntspelsi = True              CAT : SPA    =      9.5 : 1.0\n",
      "                    molt = True              CAT : SPA    =      9.5 : 1.0\n",
      "                   artur = True              SPA : CAT    =      9.4 : 1.0\n",
      "                   iceta = True              SPA : CAT    =      7.3 : 1.0\n"
     ]
    }
   ],
   "source": [
    "classifier = result['classifier']\n",
    "classifier.show_most_informative_features(10)"
   ]
  }
 ],
 "metadata": {
  "kernelspec": {
   "display_name": "Python 3",
   "language": "python",
   "name": "python3"
  },
  "language_info": {
   "codemirror_mode": {
    "name": "ipython",
    "version": 3
   },
   "file_extension": ".py",
   "mimetype": "text/x-python",
   "name": "python",
   "nbconvert_exporter": "python",
   "pygments_lexer": "ipython3",
   "version": "3.6.6"
  }
 },
 "nbformat": 4,
 "nbformat_minor": 2
}
