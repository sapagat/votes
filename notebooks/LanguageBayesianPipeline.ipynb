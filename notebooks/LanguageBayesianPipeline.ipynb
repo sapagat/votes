{
 "cells": [
  {
   "cell_type": "code",
   "execution_count": 19,
   "metadata": {},
   "outputs": [
    {
     "name": "stdout",
     "output_type": "stream",
     "text": [
      "The autoreload extension is already loaded. To reload it, use:\n",
      "  %reload_ext autoreload\n"
     ]
    }
   ],
   "source": [
    "import utils.functions as fun\n",
    "from utils import dataset\n",
    "from utils import nlp\n",
    "\n",
    "\n",
    "%load_ext autoreload\n",
    "%autoreload 2"
   ]
  },
  {
   "cell_type": "markdown",
   "metadata": {},
   "source": [
    "## Parse input"
   ]
  },
  {
   "cell_type": "code",
   "execution_count": 20,
   "metadata": {},
   "outputs": [
    {
     "data": {
      "text/plain": [
       "[{'tweet_id': '1395',\n",
       "  'category': 'CAT',\n",
       "  'text': 'Gallina de piel. Emocionada. #SomLaHistoria #27S #catalunya #democracia'},\n",
       " {'tweet_id': '2931',\n",
       "  'category': 'CAT',\n",
       "  'text': 'Bon dia, aquest #Diumenge és molt millor que qualsevol #Divendres. Somrient. #27S'},\n",
       " {'tweet_id': '6246',\n",
       "  'category': 'SPA',\n",
       "  'text': '#27s al otro lado de las urnas... https://t.co/lHU7QkdWF2'},\n",
       " {'tweet_id': '2323',\n",
       "  'category': 'CAT',\n",
       "  'text': \"9:03 cua fins la cantonada per votar a Dominiques de l' ensenyament, carrer Mallorca. La força d'un poble! #27S #27S2015\"},\n",
       " {'tweet_id': '2091',\n",
       "  'category': 'CAT',\n",
       "  'text': 'Acabo de rebre les paperetes per anar al Cons Esp a votar abans de les 14h del 25S. Gràcies ESP. Visca la vostra democràcia. #VotaPerMi #27S'}]"
      ]
     },
     "execution_count": 20,
     "metadata": {},
     "output_type": "execute_result"
    }
   ],
   "source": [
    "tweets = dataset.read_tweets('DatasetCatSpa')\n",
    "tweets[:5]"
   ]
  },
  {
   "cell_type": "markdown",
   "metadata": {},
   "source": [
    "## Pre-processing dataset"
   ]
  },
  {
   "cell_type": "code",
   "execution_count": 21,
   "metadata": {},
   "outputs": [
    {
     "data": {
      "text/plain": [
       "[({'gallina': True,\n",
       "   'piel': True,\n",
       "   'emocionada': True,\n",
       "   'somlahistoria': True,\n",
       "   '27': True,\n",
       "   'catalunya': True,\n",
       "   'democracia': True},\n",
       "  'CAT'),\n",
       " ({'bon': True,\n",
       "   'dia': True,\n",
       "   'aquest': True,\n",
       "   'diumeng': True,\n",
       "   'és': True,\n",
       "   'molt': True,\n",
       "   'millor': True,\n",
       "   'qualsevol': True,\n",
       "   'divendr': True,\n",
       "   'somrient': True,\n",
       "   '27': True},\n",
       "  'CAT')]"
      ]
     },
     "execution_count": 21,
     "metadata": {},
     "output_type": "execute_result"
    }
   ],
   "source": [
    "data = nlp.run_pipeline(tweets, [\n",
    "    nlp.remove_old_style_retweet_text,\n",
    "    nlp.remove_hyperlinks,\n",
    "    nlp.remove_hashtags,\n",
    "    nlp.tokenize,\n",
    "    nlp.reject_stopwords,\n",
    "    nlp.reject_emoticons,\n",
    "    nlp.reject_punctuations,\n",
    "    nlp.stem,\n",
    "    nlp.bag_of_words\n",
    "])\n",
    "data[:2]"
   ]
  },
  {
   "cell_type": "markdown",
   "metadata": {},
   "source": [
    "## Predicting with a NaiveBayesClassifier"
   ]
  },
  {
   "cell_type": "code",
   "execution_count": 22,
   "metadata": {},
   "outputs": [
    {
     "data": {
      "text/plain": [
       "0.9816023738872404"
      ]
     },
     "execution_count": 22,
     "metadata": {},
     "output_type": "execute_result"
    }
   ],
   "source": [
    "TEST_SIZE = 0.2\n",
    "\n",
    "result = fun.classify_with_naive_bayes(data, TEST_SIZE)\n",
    "result['accuracy']"
   ]
  },
  {
   "cell_type": "markdown",
   "metadata": {},
   "source": [
    "## Analysis of the results"
   ]
  },
  {
   "cell_type": "code",
   "execution_count": 23,
   "metadata": {},
   "outputs": [
    {
     "name": "stdout",
     "output_type": "stream",
     "text": [
      "Most Informative Features\n",
      "               escrutado = True              SPA : CAT    =    123.3 : 1.0\n",
      "               resultado = True              SPA : CAT    =    118.6 : 1.0\n",
      "                  escaño = True              SPA : CAT    =    104.6 : 1.0\n",
      "                      hi = True              CAT : SPA    =     94.3 : 1.0\n",
      "                     amb = True              CAT : SPA    =     82.7 : 1.0\n",
      "                    avui = True              CAT : SPA    =     78.8 : 1.0\n",
      "                   ahora = True              SPA : CAT    =     76.9 : 1.0\n",
      "                      mé = True              CAT : SPA    =     74.8 : 1.0\n",
      "           participación = True              SPA : CAT    =     73.2 : 1.0\n",
      "                  españa = True              SPA : CAT    =     66.7 : 1.0\n"
     ]
    }
   ],
   "source": [
    "classifier = result['classifier']\n",
    "classifier.show_most_informative_features(10)"
   ]
  }
 ],
 "metadata": {
  "kernelspec": {
   "display_name": "Python 3",
   "language": "python",
   "name": "python3"
  },
  "language_info": {
   "codemirror_mode": {
    "name": "ipython",
    "version": 3
   },
   "file_extension": ".py",
   "mimetype": "text/x-python",
   "name": "python",
   "nbconvert_exporter": "python",
   "pygments_lexer": "ipython3",
   "version": "3.6.6"
  }
 },
 "nbformat": 4,
 "nbformat_minor": 2
}
