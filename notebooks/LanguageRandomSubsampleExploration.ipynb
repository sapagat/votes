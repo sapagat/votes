{
 "cells": [
  {
   "cell_type": "code",
   "execution_count": 68,
   "metadata": {},
   "outputs": [
    {
     "name": "stdout",
     "output_type": "stream",
     "text": [
      "The autoreload extension is already loaded. To reload it, use:\n",
      "  %reload_ext autoreload\n"
     ]
    }
   ],
   "source": [
    "from utils import frame\n",
    "from utils import pipelines\n",
    "\n",
    "%load_ext autoreload\n",
    "%autoreload 2"
   ]
  },
  {
   "cell_type": "code",
   "execution_count": 69,
   "metadata": {},
   "outputs": [
    {
     "data": {
      "text/html": [
       "<div>\n",
       "<style scoped>\n",
       "    .dataframe tbody tr th:only-of-type {\n",
       "        vertical-align: middle;\n",
       "    }\n",
       "\n",
       "    .dataframe tbody tr th {\n",
       "        vertical-align: top;\n",
       "    }\n",
       "\n",
       "    .dataframe thead th {\n",
       "        text-align: right;\n",
       "    }\n",
       "</style>\n",
       "<table border=\"1\" class=\"dataframe\">\n",
       "  <thead>\n",
       "    <tr style=\"text-align: right;\">\n",
       "      <th></th>\n",
       "      <th>category</th>\n",
       "      <th>text</th>\n",
       "      <th>tweet_id</th>\n",
       "    </tr>\n",
       "  </thead>\n",
       "  <tbody>\n",
       "    <tr>\n",
       "      <th>0</th>\n",
       "      <td>CAT</td>\n",
       "      <td>Gallina de piel. Emocionada. #SomLaHistoria #2...</td>\n",
       "      <td>1395</td>\n",
       "    </tr>\n",
       "    <tr>\n",
       "      <th>1</th>\n",
       "      <td>CAT</td>\n",
       "      <td>Bon dia, aquest #Diumenge és molt millor que q...</td>\n",
       "      <td>2931</td>\n",
       "    </tr>\n",
       "    <tr>\n",
       "      <th>2</th>\n",
       "      <td>SPA</td>\n",
       "      <td>#27s al otro lado de las urnas... https://t.co...</td>\n",
       "      <td>6246</td>\n",
       "    </tr>\n",
       "    <tr>\n",
       "      <th>3</th>\n",
       "      <td>CAT</td>\n",
       "      <td>9:03 cua fins la cantonada per votar a Dominiq...</td>\n",
       "      <td>2323</td>\n",
       "    </tr>\n",
       "    <tr>\n",
       "      <th>4</th>\n",
       "      <td>CAT</td>\n",
       "      <td>Acabo de rebre les paperetes per anar al Cons ...</td>\n",
       "      <td>2091</td>\n",
       "    </tr>\n",
       "  </tbody>\n",
       "</table>\n",
       "</div>"
      ],
      "text/plain": [
       "  category                                               text tweet_id\n",
       "0      CAT  Gallina de piel. Emocionada. #SomLaHistoria #2...     1395\n",
       "1      CAT  Bon dia, aquest #Diumenge és molt millor que q...     2931\n",
       "2      SPA  #27s al otro lado de las urnas... https://t.co...     6246\n",
       "3      CAT  9:03 cua fins la cantonada per votar a Dominiq...     2323\n",
       "4      CAT  Acabo de rebre les paperetes per anar al Cons ...     2091"
      ]
     },
     "execution_count": 69,
     "metadata": {},
     "output_type": "execute_result"
    }
   ],
   "source": [
    "tweets = frame.read_tweets('DatasetCatSpa')\n",
    "tweets.head()"
   ]
  },
  {
   "cell_type": "code",
   "execution_count": 70,
   "metadata": {},
   "outputs": [],
   "source": [
    "FRACTIONS = [0.1, 0.2, 0.3, 0.4]\n",
    "REPLICAS = 3"
   ]
  },
  {
   "cell_type": "markdown",
   "metadata": {},
   "source": [
    "### Control Category Distribution"
   ]
  },
  {
   "cell_type": "code",
   "execution_count": 71,
   "metadata": {
    "scrolled": true
   },
   "outputs": [
    {
     "data": {
      "text/plain": [
       "{'CAT': 0.5004155289089398, 'SPA': 0.4995844710910602}"
      ]
     },
     "execution_count": 71,
     "metadata": {},
     "output_type": "execute_result"
    }
   ],
   "source": [
    "frame.percentage_by_category(tweets)"
   ]
  },
  {
   "cell_type": "markdown",
   "metadata": {},
   "source": [
    "### Grid Subsampling"
   ]
  },
  {
   "cell_type": "code",
   "execution_count": 72,
   "metadata": {},
   "outputs": [
    {
     "data": {
      "text/html": [
       "<div>\n",
       "<style scoped>\n",
       "    .dataframe tbody tr th:only-of-type {\n",
       "        vertical-align: middle;\n",
       "    }\n",
       "\n",
       "    .dataframe tbody tr th {\n",
       "        vertical-align: top;\n",
       "    }\n",
       "\n",
       "    .dataframe thead th {\n",
       "        text-align: right;\n",
       "    }\n",
       "</style>\n",
       "<table border=\"1\" class=\"dataframe\">\n",
       "  <thead>\n",
       "    <tr style=\"text-align: right;\">\n",
       "      <th></th>\n",
       "      <th>CAT</th>\n",
       "      <th>SPA</th>\n",
       "      <th>fraction</th>\n",
       "    </tr>\n",
       "  </thead>\n",
       "  <tbody>\n",
       "    <tr>\n",
       "      <th>0</th>\n",
       "      <td>0.492874</td>\n",
       "      <td>0.507126</td>\n",
       "      <td>0.1</td>\n",
       "    </tr>\n",
       "    <tr>\n",
       "      <th>1</th>\n",
       "      <td>0.494062</td>\n",
       "      <td>0.505938</td>\n",
       "      <td>0.1</td>\n",
       "    </tr>\n",
       "    <tr>\n",
       "      <th>2</th>\n",
       "      <td>0.495249</td>\n",
       "      <td>0.504751</td>\n",
       "      <td>0.1</td>\n",
       "    </tr>\n",
       "    <tr>\n",
       "      <th>3</th>\n",
       "      <td>0.506825</td>\n",
       "      <td>0.493175</td>\n",
       "      <td>0.2</td>\n",
       "    </tr>\n",
       "    <tr>\n",
       "      <th>4</th>\n",
       "      <td>0.505638</td>\n",
       "      <td>0.494362</td>\n",
       "      <td>0.2</td>\n",
       "    </tr>\n",
       "    <tr>\n",
       "      <th>5</th>\n",
       "      <td>0.490208</td>\n",
       "      <td>0.509792</td>\n",
       "      <td>0.2</td>\n",
       "    </tr>\n",
       "    <tr>\n",
       "      <th>6</th>\n",
       "      <td>0.495053</td>\n",
       "      <td>0.504947</td>\n",
       "      <td>0.3</td>\n",
       "    </tr>\n",
       "    <tr>\n",
       "      <th>7</th>\n",
       "      <td>0.504155</td>\n",
       "      <td>0.495845</td>\n",
       "      <td>0.3</td>\n",
       "    </tr>\n",
       "    <tr>\n",
       "      <th>8</th>\n",
       "      <td>0.498219</td>\n",
       "      <td>0.501781</td>\n",
       "      <td>0.3</td>\n",
       "    </tr>\n",
       "    <tr>\n",
       "      <th>9</th>\n",
       "      <td>0.493025</td>\n",
       "      <td>0.506975</td>\n",
       "      <td>0.4</td>\n",
       "    </tr>\n",
       "    <tr>\n",
       "      <th>10</th>\n",
       "      <td>0.502226</td>\n",
       "      <td>0.497774</td>\n",
       "      <td>0.4</td>\n",
       "    </tr>\n",
       "    <tr>\n",
       "      <th>11</th>\n",
       "      <td>0.498664</td>\n",
       "      <td>0.501336</td>\n",
       "      <td>0.4</td>\n",
       "    </tr>\n",
       "  </tbody>\n",
       "</table>\n",
       "</div>"
      ],
      "text/plain": [
       "         CAT       SPA  fraction\n",
       "0   0.492874  0.507126       0.1\n",
       "1   0.494062  0.505938       0.1\n",
       "2   0.495249  0.504751       0.1\n",
       "3   0.506825  0.493175       0.2\n",
       "4   0.505638  0.494362       0.2\n",
       "5   0.490208  0.509792       0.2\n",
       "6   0.495053  0.504947       0.3\n",
       "7   0.504155  0.495845       0.3\n",
       "8   0.498219  0.501781       0.3\n",
       "9   0.493025  0.506975       0.4\n",
       "10  0.502226  0.497774       0.4\n",
       "11  0.498664  0.501336       0.4"
      ]
     },
     "execution_count": 72,
     "metadata": {},
     "output_type": "execute_result"
    }
   ],
   "source": [
    "categories = frame.categories_proportion_matrix(tweets, FRACTIONS, REPLICAS)\n",
    "categories"
   ]
  },
  {
   "cell_type": "code",
   "execution_count": 73,
   "metadata": {},
   "outputs": [
    {
     "data": {
      "text/html": [
       "<div>\n",
       "<style scoped>\n",
       "    .dataframe tbody tr th:only-of-type {\n",
       "        vertical-align: middle;\n",
       "    }\n",
       "\n",
       "    .dataframe tbody tr th {\n",
       "        vertical-align: top;\n",
       "    }\n",
       "\n",
       "    .dataframe thead th {\n",
       "        text-align: right;\n",
       "    }\n",
       "</style>\n",
       "<table border=\"1\" class=\"dataframe\">\n",
       "  <thead>\n",
       "    <tr style=\"text-align: right;\">\n",
       "      <th></th>\n",
       "      <th>CAT</th>\n",
       "      <th>SPA</th>\n",
       "      <th>fraction</th>\n",
       "    </tr>\n",
       "  </thead>\n",
       "  <tbody>\n",
       "    <tr>\n",
       "      <th>count</th>\n",
       "      <td>12.000000</td>\n",
       "      <td>12.000000</td>\n",
       "      <td>12.000000</td>\n",
       "    </tr>\n",
       "    <tr>\n",
       "      <th>mean</th>\n",
       "      <td>0.498017</td>\n",
       "      <td>0.501983</td>\n",
       "      <td>0.250000</td>\n",
       "    </tr>\n",
       "    <tr>\n",
       "      <th>std</th>\n",
       "      <td>0.005526</td>\n",
       "      <td>0.005526</td>\n",
       "      <td>0.116775</td>\n",
       "    </tr>\n",
       "    <tr>\n",
       "      <th>min</th>\n",
       "      <td>0.490208</td>\n",
       "      <td>0.493175</td>\n",
       "      <td>0.100000</td>\n",
       "    </tr>\n",
       "    <tr>\n",
       "      <th>25%</th>\n",
       "      <td>0.493802</td>\n",
       "      <td>0.497292</td>\n",
       "      <td>0.175000</td>\n",
       "    </tr>\n",
       "    <tr>\n",
       "      <th>50%</th>\n",
       "      <td>0.496734</td>\n",
       "      <td>0.503266</td>\n",
       "      <td>0.250000</td>\n",
       "    </tr>\n",
       "    <tr>\n",
       "      <th>75%</th>\n",
       "      <td>0.502708</td>\n",
       "      <td>0.506198</td>\n",
       "      <td>0.325000</td>\n",
       "    </tr>\n",
       "    <tr>\n",
       "      <th>max</th>\n",
       "      <td>0.506825</td>\n",
       "      <td>0.509792</td>\n",
       "      <td>0.400000</td>\n",
       "    </tr>\n",
       "  </tbody>\n",
       "</table>\n",
       "</div>"
      ],
      "text/plain": [
       "             CAT        SPA   fraction\n",
       "count  12.000000  12.000000  12.000000\n",
       "mean    0.498017   0.501983   0.250000\n",
       "std     0.005526   0.005526   0.116775\n",
       "min     0.490208   0.493175   0.100000\n",
       "25%     0.493802   0.497292   0.175000\n",
       "50%     0.496734   0.503266   0.250000\n",
       "75%     0.502708   0.506198   0.325000\n",
       "max     0.506825   0.509792   0.400000"
      ]
     },
     "execution_count": 73,
     "metadata": {},
     "output_type": "execute_result"
    }
   ],
   "source": [
    "categories.describe()"
   ]
  },
  {
   "cell_type": "markdown",
   "metadata": {},
   "source": [
    "### Compara Bayesian pipeline with different subsamples"
   ]
  },
  {
   "cell_type": "code",
   "execution_count": 74,
   "metadata": {},
   "outputs": [
    {
     "data": {
      "text/plain": [
       "{'start': '2019-04-19 12:32:08.739710',\n",
       " 'finish': '2019-04-19 12:32:16.722702',\n",
       " 'accuracy': 0.9816023738872404}"
      ]
     },
     "execution_count": 74,
     "metadata": {},
     "output_type": "execute_result"
    }
   ],
   "source": [
    "pipelines.run_naive_bayesian(tweets.to_dict('records'))"
   ]
  },
  {
   "cell_type": "code",
   "execution_count": 75,
   "metadata": {},
   "outputs": [
    {
     "data": {
      "text/plain": [
       "[{'start': '2019-04-19 12:32:16.770643',\n",
       "  'finish': '2019-04-19 12:32:17.639880',\n",
       "  'accuracy': 0.9704142011834319,\n",
       "  'fraction': 0.1},\n",
       " {'start': '2019-04-19 12:32:17.649065',\n",
       "  'finish': '2019-04-19 12:32:18.426374',\n",
       "  'accuracy': 0.9408284023668639,\n",
       "  'fraction': 0.1},\n",
       " {'start': '2019-04-19 12:32:18.435839',\n",
       "  'finish': '2019-04-19 12:32:19.189575',\n",
       "  'accuracy': 0.9408284023668639,\n",
       "  'fraction': 0.1},\n",
       " {'start': '2019-04-19 12:32:19.204687',\n",
       "  'finish': '2019-04-19 12:32:20.763476',\n",
       "  'accuracy': 0.973293768545994,\n",
       "  'fraction': 0.2},\n",
       " {'start': '2019-04-19 12:32:20.779920',\n",
       "  'finish': '2019-04-19 12:32:22.245040',\n",
       "  'accuracy': 0.9495548961424333,\n",
       "  'fraction': 0.2},\n",
       " {'start': '2019-04-19 12:32:22.261872',\n",
       "  'finish': '2019-04-19 12:32:23.812329',\n",
       "  'accuracy': 0.9614243323442137,\n",
       "  'fraction': 0.2},\n",
       " {'start': '2019-04-19 12:32:23.836870',\n",
       "  'finish': '2019-04-19 12:32:26.167684',\n",
       "  'accuracy': 0.9703557312252964,\n",
       "  'fraction': 0.3},\n",
       " {'start': '2019-04-19 12:32:26.191027',\n",
       "  'finish': '2019-04-19 12:32:28.381849',\n",
       "  'accuracy': 0.9545454545454546,\n",
       "  'fraction': 0.3},\n",
       " {'start': '2019-04-19 12:32:28.406079',\n",
       "  'finish': '2019-04-19 12:32:30.646788',\n",
       "  'accuracy': 0.9545454545454546,\n",
       "  'fraction': 0.3},\n",
       " {'start': '2019-04-19 12:32:30.676951',\n",
       "  'finish': '2019-04-19 12:32:33.733595',\n",
       "  'accuracy': 0.9747774480712166,\n",
       "  'fraction': 0.4},\n",
       " {'start': '2019-04-19 12:32:33.764441',\n",
       "  'finish': '2019-04-19 12:32:36.864842',\n",
       "  'accuracy': 0.9540059347181009,\n",
       "  'fraction': 0.4},\n",
       " {'start': '2019-04-19 12:32:36.895093',\n",
       "  'finish': '2019-04-19 12:32:39.840223',\n",
       "  'accuracy': 0.9762611275964391,\n",
       "  'fraction': 0.4}]"
      ]
     },
     "execution_count": 75,
     "metadata": {},
     "output_type": "execute_result"
    }
   ],
   "source": [
    "pipelines.run_multisamples_naive_bayesian(tweets, FRACTIONS, REPLICAS)"
   ]
  },
  {
   "cell_type": "markdown",
   "metadata": {},
   "source": [
    "### Comparte SVM pipeline with different subsamples"
   ]
  },
  {
   "cell_type": "code",
   "execution_count": 76,
   "metadata": {},
   "outputs": [
    {
     "name": "stderr",
     "output_type": "stream",
     "text": [
      "/root/.local/share/virtualenvs/app-ueEJiAOq/lib/python3.6/site-packages/sklearn/svm/base.py:244: ConvergenceWarning: Solver terminated early (max_iter=500).  Consider pre-processing your data with StandardScaler or MinMaxScaler.\n",
      "  % self.max_iter, ConvergenceWarning)\n"
     ]
    },
    {
     "data": {
      "text/plain": [
       "{'start': '2019-04-19 12:32:39.931716',\n",
       " 'finish': '2019-04-19 12:35:56.975681',\n",
       " 'accuracy': 0.9519287833827893}"
      ]
     },
     "execution_count": 76,
     "metadata": {},
     "output_type": "execute_result"
    }
   ],
   "source": [
    "pipelines.run_svm(tweets.to_dict('records'))"
   ]
  },
  {
   "cell_type": "code",
   "execution_count": 78,
   "metadata": {},
   "outputs": [
    {
     "name": "stderr",
     "output_type": "stream",
     "text": [
      "/root/.local/share/virtualenvs/app-ueEJiAOq/lib/python3.6/site-packages/sklearn/svm/base.py:244: ConvergenceWarning: Solver terminated early (max_iter=500).  Consider pre-processing your data with StandardScaler or MinMaxScaler.\n",
      "  % self.max_iter, ConvergenceWarning)\n",
      "/root/.local/share/virtualenvs/app-ueEJiAOq/lib/python3.6/site-packages/sklearn/svm/base.py:244: ConvergenceWarning: Solver terminated early (max_iter=500).  Consider pre-processing your data with StandardScaler or MinMaxScaler.\n",
      "  % self.max_iter, ConvergenceWarning)\n",
      "/root/.local/share/virtualenvs/app-ueEJiAOq/lib/python3.6/site-packages/sklearn/svm/base.py:244: ConvergenceWarning: Solver terminated early (max_iter=500).  Consider pre-processing your data with StandardScaler or MinMaxScaler.\n",
      "  % self.max_iter, ConvergenceWarning)\n",
      "/root/.local/share/virtualenvs/app-ueEJiAOq/lib/python3.6/site-packages/sklearn/svm/base.py:244: ConvergenceWarning: Solver terminated early (max_iter=500).  Consider pre-processing your data with StandardScaler or MinMaxScaler.\n",
      "  % self.max_iter, ConvergenceWarning)\n",
      "/root/.local/share/virtualenvs/app-ueEJiAOq/lib/python3.6/site-packages/sklearn/svm/base.py:244: ConvergenceWarning: Solver terminated early (max_iter=500).  Consider pre-processing your data with StandardScaler or MinMaxScaler.\n",
      "  % self.max_iter, ConvergenceWarning)\n",
      "/root/.local/share/virtualenvs/app-ueEJiAOq/lib/python3.6/site-packages/sklearn/svm/base.py:244: ConvergenceWarning: Solver terminated early (max_iter=500).  Consider pre-processing your data with StandardScaler or MinMaxScaler.\n",
      "  % self.max_iter, ConvergenceWarning)\n",
      "/root/.local/share/virtualenvs/app-ueEJiAOq/lib/python3.6/site-packages/sklearn/svm/base.py:244: ConvergenceWarning: Solver terminated early (max_iter=500).  Consider pre-processing your data with StandardScaler or MinMaxScaler.\n",
      "  % self.max_iter, ConvergenceWarning)\n",
      "/root/.local/share/virtualenvs/app-ueEJiAOq/lib/python3.6/site-packages/sklearn/svm/base.py:244: ConvergenceWarning: Solver terminated early (max_iter=500).  Consider pre-processing your data with StandardScaler or MinMaxScaler.\n",
      "  % self.max_iter, ConvergenceWarning)\n",
      "/root/.local/share/virtualenvs/app-ueEJiAOq/lib/python3.6/site-packages/sklearn/svm/base.py:244: ConvergenceWarning: Solver terminated early (max_iter=500).  Consider pre-processing your data with StandardScaler or MinMaxScaler.\n",
      "  % self.max_iter, ConvergenceWarning)\n",
      "/root/.local/share/virtualenvs/app-ueEJiAOq/lib/python3.6/site-packages/sklearn/svm/base.py:244: ConvergenceWarning: Solver terminated early (max_iter=500).  Consider pre-processing your data with StandardScaler or MinMaxScaler.\n",
      "  % self.max_iter, ConvergenceWarning)\n",
      "/root/.local/share/virtualenvs/app-ueEJiAOq/lib/python3.6/site-packages/sklearn/svm/base.py:244: ConvergenceWarning: Solver terminated early (max_iter=500).  Consider pre-processing your data with StandardScaler or MinMaxScaler.\n",
      "  % self.max_iter, ConvergenceWarning)\n",
      "/root/.local/share/virtualenvs/app-ueEJiAOq/lib/python3.6/site-packages/sklearn/svm/base.py:244: ConvergenceWarning: Solver terminated early (max_iter=500).  Consider pre-processing your data with StandardScaler or MinMaxScaler.\n",
      "  % self.max_iter, ConvergenceWarning)\n"
     ]
    },
    {
     "data": {
      "text/plain": [
       "[{'start': '2019-04-19 12:36:08.687039',\n",
       "  'finish': '2019-04-19 12:36:12.138214',\n",
       "  'accuracy': 0.9408284023668639,\n",
       "  'fraction': 0.1},\n",
       " {'start': '2019-04-19 12:36:12.145874',\n",
       "  'finish': '2019-04-19 12:36:15.394413',\n",
       "  'accuracy': 0.8994082840236687,\n",
       "  'fraction': 0.1},\n",
       " {'start': '2019-04-19 12:36:15.402813',\n",
       "  'finish': '2019-04-19 12:36:18.836726',\n",
       "  'accuracy': 0.9230769230769231,\n",
       "  'fraction': 0.1},\n",
       " {'start': '2019-04-19 12:36:18.851474',\n",
       "  'finish': '2019-04-19 12:36:32.721506',\n",
       "  'accuracy': 0.9317507418397626,\n",
       "  'fraction': 0.2},\n",
       " {'start': '2019-04-19 12:36:32.739423',\n",
       "  'finish': '2019-04-19 12:36:46.526708',\n",
       "  'accuracy': 0.9495548961424333,\n",
       "  'fraction': 0.2},\n",
       " {'start': '2019-04-19 12:36:46.544765',\n",
       "  'finish': '2019-04-19 12:37:00.032203',\n",
       "  'accuracy': 0.9258160237388724,\n",
       "  'fraction': 0.2},\n",
       " {'start': '2019-04-19 12:37:00.056797',\n",
       "  'finish': '2019-04-19 12:37:29.553942',\n",
       "  'accuracy': 0.9446640316205533,\n",
       "  'fraction': 0.3},\n",
       " {'start': '2019-04-19 12:37:29.581076',\n",
       "  'finish': '2019-04-19 12:37:59.262167',\n",
       "  'accuracy': 0.9308300395256917,\n",
       "  'fraction': 0.3},\n",
       " {'start': '2019-04-19 12:37:59.288930',\n",
       "  'finish': '2019-04-19 12:38:29.956726',\n",
       "  'accuracy': 0.9426877470355731,\n",
       "  'fraction': 0.3},\n",
       " {'start': '2019-04-19 12:38:29.991497',\n",
       "  'finish': '2019-04-19 12:39:20.138972',\n",
       "  'accuracy': 0.9495548961424333,\n",
       "  'fraction': 0.4},\n",
       " {'start': '2019-04-19 12:39:20.176483',\n",
       "  'finish': '2019-04-19 12:40:09.831658',\n",
       "  'accuracy': 0.9480712166172107,\n",
       "  'fraction': 0.4},\n",
       " {'start': '2019-04-19 12:40:09.869404',\n",
       "  'finish': '2019-04-19 12:41:00.230838',\n",
       "  'accuracy': 0.9451038575667656,\n",
       "  'fraction': 0.4}]"
      ]
     },
     "execution_count": 78,
     "metadata": {},
     "output_type": "execute_result"
    }
   ],
   "source": [
    "pipelines.run_multisamples_svm(tweets, FRACTIONS, REPLICAS)\n"
   ]
  },
  {
   "cell_type": "code",
   "execution_count": null,
   "metadata": {},
   "outputs": [],
   "source": []
  }
 ],
 "metadata": {
  "kernelspec": {
   "display_name": "Python 3",
   "language": "python",
   "name": "python3"
  },
  "language_info": {
   "codemirror_mode": {
    "name": "ipython",
    "version": 3
   },
   "file_extension": ".py",
   "mimetype": "text/x-python",
   "name": "python",
   "nbconvert_exporter": "python",
   "pygments_lexer": "ipython3",
   "version": "3.6.6"
  }
 },
 "nbformat": 4,
 "nbformat_minor": 2
}
