{
 "cells": [
  {
   "cell_type": "code",
   "execution_count": 1,
   "metadata": {},
   "outputs": [],
   "source": [
    "import utils.functions as fun\n",
    "from utils import dataset\n",
    "\n",
    "%load_ext autoreload\n",
    "%autoreload 2"
   ]
  },
  {
   "cell_type": "markdown",
   "metadata": {},
   "source": [
    "## Parse input"
   ]
  },
  {
   "cell_type": "code",
   "execution_count": 2,
   "metadata": {},
   "outputs": [
    {
     "data": {
      "text/plain": [
       "[{'tweet_id': '1395',\n",
       "  'category': 'CAT',\n",
       "  'text': 'Gallina de piel. Emocionada. #SomLaHistoria #27S #catalunya #democracia'},\n",
       " {'tweet_id': '2931',\n",
       "  'category': 'CAT',\n",
       "  'text': 'Bon dia, aquest #Diumenge és molt millor que qualsevol #Divendres. Somrient. #27S'},\n",
       " {'tweet_id': '6246',\n",
       "  'category': 'SPA',\n",
       "  'text': '#27s al otro lado de las urnas... https://t.co/lHU7QkdWF2'},\n",
       " {'tweet_id': '2323',\n",
       "  'category': 'CAT',\n",
       "  'text': \"9:03 cua fins la cantonada per votar a Dominiques de l' ensenyament, carrer Mallorca. La força d'un poble! #27S #27S2015\"},\n",
       " {'tweet_id': '2091',\n",
       "  'category': 'CAT',\n",
       "  'text': 'Acabo de rebre les paperetes per anar al Cons Esp a votar abans de les 14h del 25S. Gràcies ESP. Visca la vostra democràcia. #VotaPerMi #27S'}]"
      ]
     },
     "execution_count": 2,
     "metadata": {},
     "output_type": "execute_result"
    }
   ],
   "source": [
    "tweets = dataset.read_tweets('DatasetCatSpa')\n",
    "tweets[:5]"
   ]
  },
  {
   "cell_type": "markdown",
   "metadata": {},
   "source": [
    "## Pre-processing dataset"
   ]
  },
  {
   "cell_type": "code",
   "execution_count": 3,
   "metadata": {},
   "outputs": [
    {
     "data": {
      "text/plain": [
       "[['gallina',\n",
       "  'piel',\n",
       "  'emocionada',\n",
       "  'somlahistoria',\n",
       "  '27',\n",
       "  'catalunya',\n",
       "  'democracia'],\n",
       " ['bon',\n",
       "  'dia',\n",
       "  'aquest',\n",
       "  'diumeng',\n",
       "  'és',\n",
       "  'molt',\n",
       "  'millor',\n",
       "  'qualsevol',\n",
       "  'divendr',\n",
       "  'somrient',\n",
       "  '27']]"
      ]
     },
     "execution_count": 3,
     "metadata": {},
     "output_type": "execute_result"
    }
   ],
   "source": [
    "pipeline = [\n",
    "    fun.remove_characters_from_tweet,\n",
    "    fun.tokenize,\n",
    "    fun.filter_tokens,\n",
    "    fun.stem\n",
    "]\n",
    "\n",
    "stem_sentences = [fun.run_pipeline(pipeline, tweet['text']) for tweet in tweets]\n",
    "stem_sentences[:2]"
   ]
  },
  {
   "cell_type": "code",
   "execution_count": 4,
   "metadata": {},
   "outputs": [
    {
     "name": "stdout",
     "output_type": "stream",
     "text": [
      "13911\n"
     ]
    },
    {
     "data": {
      "text/plain": [
       "array([0., 0., 0., ..., 0., 0., 0.])"
      ]
     },
     "execution_count": 4,
     "metadata": {},
     "output_type": "execute_result"
    }
   ],
   "source": [
    "result = fun.bag_of_words_for_svm(stem_sentences)\n",
    "print(result['vocabulary_size'])\n",
    "\n",
    "sentences = result['sentences']\n",
    "sentences[0]"
   ]
  },
  {
   "cell_type": "code",
   "execution_count": 5,
   "metadata": {},
   "outputs": [
    {
     "data": {
      "text/plain": [
       "['CAT', 'CAT', 'SPA']"
      ]
     },
     "execution_count": 5,
     "metadata": {},
     "output_type": "execute_result"
    }
   ],
   "source": [
    "labels = [tweet['category'] for tweet in tweets]\n",
    "labels[:3]"
   ]
  },
  {
   "cell_type": "markdown",
   "metadata": {},
   "source": [
    "## Predicting with a SVM"
   ]
  },
  {
   "cell_type": "code",
   "execution_count": 6,
   "metadata": {},
   "outputs": [
    {
     "name": "stderr",
     "output_type": "stream",
     "text": [
      "/root/.local/share/virtualenvs/app-ueEJiAOq/lib/python3.6/site-packages/sklearn/svm/base.py:244: ConvergenceWarning: Solver terminated early (max_iter=500).  Consider pre-processing your data with StandardScaler or MinMaxScaler.\n",
      "  % self.max_iter, ConvergenceWarning)\n"
     ]
    },
    {
     "data": {
      "text/plain": [
       "{'total_correct': 2645, 'accuracy': 0.9514388489208633}"
      ]
     },
     "execution_count": 6,
     "metadata": {},
     "output_type": "execute_result"
    }
   ],
   "source": [
    "TEST_SIZE = 0.33\n",
    "MAX_ITERATIONS = 500\n",
    "X = sentences\n",
    "y = labels\n",
    "\n",
    "result = fun.classify_with_svm(X, y, TEST_SIZE, MAX_ITERATIONS)\n",
    "result"
   ]
  },
  {
   "cell_type": "code",
   "execution_count": null,
   "metadata": {},
   "outputs": [],
   "source": []
  }
 ],
 "metadata": {
  "kernelspec": {
   "display_name": "Python 3",
   "language": "python",
   "name": "python3"
  },
  "language_info": {
   "codemirror_mode": {
    "name": "ipython",
    "version": 3
   },
   "file_extension": ".py",
   "mimetype": "text/x-python",
   "name": "python",
   "nbconvert_exporter": "python",
   "pygments_lexer": "ipython3",
   "version": "3.6.6"
  }
 },
 "nbformat": 4,
 "nbformat_minor": 2
}
