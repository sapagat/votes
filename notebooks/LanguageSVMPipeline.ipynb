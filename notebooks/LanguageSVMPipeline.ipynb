{
 "cells": [
  {
   "cell_type": "code",
   "execution_count": 1,
   "metadata": {},
   "outputs": [],
   "source": [
    "from utils import dataset\n",
    "from utils import nlp\n",
    "from utils import classifiers\n",
    "\n",
    "%load_ext autoreload\n",
    "%autoreload 2"
   ]
  },
  {
   "cell_type": "markdown",
   "metadata": {},
   "source": [
    "## Parse input"
   ]
  },
  {
   "cell_type": "code",
   "execution_count": 2,
   "metadata": {},
   "outputs": [
    {
     "data": {
      "text/plain": [
       "[{'tweet_id': '4717',\n",
       "  'category': 'SPA',\n",
       "  'text': \"Con el 56,3% escrutado: JPS 62 escaños, C's 25, PSC 17, PP 11, CSQP 10, CUP 10. #eleccionescatalanas\"},\n",
       " {'tweet_id': '6025',\n",
       "  'category': 'SPA',\n",
       "  'text': '.@miqueliceta lxs catalanes necesitan recuperar el estado de bienestar x eso irán hoy a votar #27S https://t.co/2W62g81dQd'},\n",
       " {'tweet_id': '6123',\n",
       "  'category': 'SPA',\n",
       "  'text': 'Creéis que un sistema judicial catalán sacará a la luz escándalos económicos de la familia Pujol? No, les darán privilegios y lo sabeis #27S'},\n",
       " {'tweet_id': '3810',\n",
       "  'category': 'CAT',\n",
       "  'text': \"Cues per anar a votar, això si que m'agrada!!!! #27S\"},\n",
       " {'tweet_id': '2193',\n",
       "  'category': 'CAT',\n",
       "  'text': 'Amb #SomriureCUP seguint l.escrutini @Elforn. @CUPGirona @cupnacional http://t.co/JfLRkFDOv8'}]"
      ]
     },
     "execution_count": 2,
     "metadata": {},
     "output_type": "execute_result"
    }
   ],
   "source": [
    "tweets = dataset.read_tweets('DatasetCatSpa')\n",
    "tweets[:5]"
   ]
  },
  {
   "cell_type": "markdown",
   "metadata": {},
   "source": [
    "## Pre-processing dataset"
   ]
  },
  {
   "cell_type": "code",
   "execution_count": 3,
   "metadata": {},
   "outputs": [
    {
     "data": {
      "text/plain": [
       "[['56,3',\n",
       "  'escrutado',\n",
       "  'jp',\n",
       "  '62',\n",
       "  'escaño',\n",
       "  \"c'\",\n",
       "  '25',\n",
       "  'psc',\n",
       "  '17',\n",
       "  'pp',\n",
       "  '11',\n",
       "  'csqp',\n",
       "  '10',\n",
       "  'cup',\n",
       "  '10',\n",
       "  'eleccionescatalana'],\n",
       " ['lx',\n",
       "  'catalan',\n",
       "  'necesitan',\n",
       "  'recuperar',\n",
       "  'bienestar',\n",
       "  'x',\n",
       "  'irán',\n",
       "  'hoy',\n",
       "  'votar',\n",
       "  '27']]"
      ]
     },
     "execution_count": 3,
     "metadata": {},
     "output_type": "execute_result"
    }
   ],
   "source": [
    "pipeline = [\n",
    "    nlp.remove_old_style_retweet_text,\n",
    "    nlp.remove_hyperlinks,\n",
    "    nlp.remove_hashtags,\n",
    "    nlp.tokenize,\n",
    "    nlp.reject_stopwords,\n",
    "    nlp.reject_emoticons,\n",
    "    nlp.reject_punctuations,\n",
    "    nlp.stem\n",
    "]\n",
    "\n",
    "stem_sentences = [nlp.process_unit(pipeline, tweet['text']) for tweet in tweets]\n",
    "stem_sentences[:2]"
   ]
  },
  {
   "cell_type": "code",
   "execution_count": 4,
   "metadata": {},
   "outputs": [
    {
     "name": "stdout",
     "output_type": "stream",
     "text": [
      "3124\n"
     ]
    },
    {
     "data": {
      "text/plain": [
       "array([0., 0., 0., ..., 0., 0., 0.])"
      ]
     },
     "execution_count": 4,
     "metadata": {},
     "output_type": "execute_result"
    }
   ],
   "source": [
    "result = classifiers.bag_of_words_for_svm(stem_sentences)\n",
    "print(result['vocabulary_size'])\n",
    "\n",
    "sentences = result['sentences']\n",
    "sentences[0]"
   ]
  },
  {
   "cell_type": "code",
   "execution_count": 5,
   "metadata": {},
   "outputs": [
    {
     "data": {
      "text/plain": [
       "['SPA', 'SPA', 'SPA']"
      ]
     },
     "execution_count": 5,
     "metadata": {},
     "output_type": "execute_result"
    }
   ],
   "source": [
    "labels = [tweet['category'] for tweet in tweets]\n",
    "labels[:3]"
   ]
  },
  {
   "cell_type": "markdown",
   "metadata": {},
   "source": [
    "## Predicting with a SVM"
   ]
  },
  {
   "cell_type": "code",
   "execution_count": 6,
   "metadata": {},
   "outputs": [
    {
     "name": "stderr",
     "output_type": "stream",
     "text": [
      "/root/.local/share/virtualenvs/app-ueEJiAOq/lib/python3.6/site-packages/sklearn/svm/base.py:244: ConvergenceWarning: Solver terminated early (max_iter=500).  Consider pre-processing your data with StandardScaler or MinMaxScaler.\n",
      "  % self.max_iter, ConvergenceWarning)\n"
     ]
    },
    {
     "data": {
      "text/plain": [
       "{'total_correct': 265, 'accuracy': 0.9265734265734266}"
      ]
     },
     "execution_count": 6,
     "metadata": {},
     "output_type": "execute_result"
    }
   ],
   "source": [
    "TEST_SIZE = 0.33\n",
    "MAX_ITERATIONS = 500\n",
    "X = sentences\n",
    "y = labels\n",
    "\n",
    "result = classifiers.classify_with_svm(X, y, TEST_SIZE, MAX_ITERATIONS)\n",
    "result"
   ]
  },
  {
   "cell_type": "code",
   "execution_count": null,
   "metadata": {},
   "outputs": [],
   "source": []
  }
 ],
 "metadata": {
  "kernelspec": {
   "display_name": "Python 3",
   "language": "python",
   "name": "python3"
  },
  "language_info": {
   "codemirror_mode": {
    "name": "ipython",
    "version": 3
   },
   "file_extension": ".py",
   "mimetype": "text/x-python",
   "name": "python",
   "nbconvert_exporter": "python",
   "pygments_lexer": "ipython3",
   "version": "3.6.6"
  }
 },
 "nbformat": 4,
 "nbformat_minor": 2
}
