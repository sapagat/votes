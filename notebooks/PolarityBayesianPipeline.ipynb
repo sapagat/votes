{
 "cells": [
  {
   "cell_type": "code",
   "execution_count": 11,
   "metadata": {},
   "outputs": [
    {
     "name": "stdout",
     "output_type": "stream",
     "text": [
      "The autoreload extension is already loaded. To reload it, use:\n",
      "  %reload_ext autoreload\n"
     ]
    }
   ],
   "source": [
    "import utils.functions as fun\n",
    "from utils import dataset\n",
    "\n",
    "%load_ext autoreload\n",
    "%autoreload 2"
   ]
  },
  {
   "cell_type": "markdown",
   "metadata": {},
   "source": [
    "## Parse input"
   ]
  },
  {
   "cell_type": "code",
   "execution_count": 12,
   "metadata": {},
   "outputs": [
    {
     "data": {
      "text/plain": [
       "[{'tweet_id': '5247',\n",
       "  'category': 'AGAINST',\n",
       "  'text': 'Victoria del sí, o victoria del NO?? Menos del 50% a favor en #eleccionescatalanas #27S'},\n",
       " {'tweet_id': '4103',\n",
       "  'category': 'NEUTRAL',\n",
       "  'text': 'El PP ja no té vot ocult a Catalunya. Sembla ser que Ciutadans ha capitalitzat el vot del no #27s Veurem què passa...'},\n",
       " {'tweet_id': '5468',\n",
       "  'category': 'AGAINST',\n",
       "  'text': '#27S Que la participación haya subido es buen dato. Que lo haga para desmantelar una mentira como la independentista sería lo ideal.'},\n",
       " {'tweet_id': '1797',\n",
       "  'category': 'FAVOR',\n",
       "  'text': '#Catalunya opta per #independència a les urnes. http://t.co/k4ysUuXRiq @laclaunoticies #JuntsPelSí #27S #HemGuanyat http://t.co/I4PVgbuKPa'},\n",
       " {'tweet_id': '4886',\n",
       "  'category': 'AGAINST',\n",
       "  'text': 'Los que plantean las elecciones del #27S como plebiscitarias son los que dicen que ganan con resultados parlamentarios. O lo uno o lo otro'}]"
      ]
     },
     "execution_count": 12,
     "metadata": {},
     "output_type": "execute_result"
    }
   ],
   "source": [
    "tweets = dataset.read_tweets('DatasetFavCon')\n",
    "tweets[:5]"
   ]
  },
  {
   "cell_type": "markdown",
   "metadata": {},
   "source": [
    "## Pre-processing dataset"
   ]
  },
  {
   "cell_type": "code",
   "execution_count": 13,
   "metadata": {},
   "outputs": [
    {
     "data": {
      "text/plain": [
       "[({'victoria': True,\n",
       "   'meno': True,\n",
       "   '50': True,\n",
       "   'favor': True,\n",
       "   'eleccionescatalana': True,\n",
       "   '27': True},\n",
       "  'AGAINST'),\n",
       " ({'pp': True,\n",
       "   'ja': True,\n",
       "   'té': True,\n",
       "   'vot': True,\n",
       "   'ocult': True,\n",
       "   'catalunya': True,\n",
       "   'sembla': True,\n",
       "   'ser': True,\n",
       "   'ciutadan': True,\n",
       "   'capitalitzat': True,\n",
       "   '27': True,\n",
       "   'veurem': True,\n",
       "   'què': True,\n",
       "   'passa': True,\n",
       "   '...': True},\n",
       "  'NEUTRAL')]"
      ]
     },
     "execution_count": 13,
     "metadata": {},
     "output_type": "execute_result"
    }
   ],
   "source": [
    "pipeline = [\n",
    "    fun.remove_characters_from_tweet,\n",
    "    fun.tokenize,\n",
    "    fun.filter_tokens,\n",
    "    fun.stem,\n",
    "    fun.bag_of_words\n",
    "]\n",
    "\n",
    "data = fun.labeled_featureset(tweets, pipeline)\n",
    "data[:2]"
   ]
  },
  {
   "cell_type": "markdown",
   "metadata": {},
   "source": [
    "## Predicting with a NaiveBayesClassifier"
   ]
  },
  {
   "cell_type": "code",
   "execution_count": 14,
   "metadata": {},
   "outputs": [
    {
     "data": {
      "text/plain": [
       "0.6856465005931198"
      ]
     },
     "execution_count": 14,
     "metadata": {},
     "output_type": "execute_result"
    }
   ],
   "source": [
    "TEST_SIZE = 0.2\n",
    "\n",
    "result = fun.classify_with_naive_bayes(data, TEST_SIZE)\n",
    "result['accuracy']"
   ]
  },
  {
   "cell_type": "markdown",
   "metadata": {},
   "source": [
    "## Analysis of the results"
   ]
  },
  {
   "cell_type": "code",
   "execution_count": 15,
   "metadata": {},
   "outputs": [
    {
     "name": "stdout",
     "output_type": "stream",
     "text": [
      "Most Informative Features\n",
      "             somriurecup = True            FAVOR : NEUTRA =    114.9 : 1.0\n",
      "             guanyemjunt = True            FAVOR : NEUTRA =     89.1 : 1.0\n",
      "             apoderadosc = True           AGAINS : FAVOR  =     87.3 : 1.0\n",
      "           participación = True           NEUTRA : FAVOR  =     78.5 : 1.0\n",
      "                      il = True            FAVOR : NEUTRA =     71.8 : 1.0\n",
      "               votapermi = True            FAVOR : NEUTRA =     64.4 : 1.0\n",
      "                   lliur = True            FAVOR : NEUTRA =     54.4 : 1.0\n",
      "               guanyarem = True            FAVOR : NEUTRA =     54.4 : 1.0\n",
      "                   visca = True            FAVOR : NEUTRA =     46.2 : 1.0\n",
      "             enhorabuena = True           AGAINS : FAVOR  =     40.9 : 1.0\n"
     ]
    }
   ],
   "source": [
    "classifier = result['classifier']\n",
    "classifier.show_most_informative_features(10)"
   ]
  }
 ],
 "metadata": {
  "kernelspec": {
   "display_name": "Python 3",
   "language": "python",
   "name": "python3"
  },
  "language_info": {
   "codemirror_mode": {
    "name": "ipython",
    "version": 3
   },
   "file_extension": ".py",
   "mimetype": "text/x-python",
   "name": "python",
   "nbconvert_exporter": "python",
   "pygments_lexer": "ipython3",
   "version": "3.6.6"
  }
 },
 "nbformat": 4,
 "nbformat_minor": 2
}
