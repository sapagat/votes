{
 "cells": [
  {
   "cell_type": "code",
   "execution_count": 6,
   "metadata": {},
   "outputs": [
    {
     "name": "stdout",
     "output_type": "stream",
     "text": [
      "The autoreload extension is already loaded. To reload it, use:\n",
      "  %reload_ext autoreload\n"
     ]
    }
   ],
   "source": [
    "from utils import dataset\n",
    "from utils import nlp\n",
    "from utils import classifiers\n",
    "%load_ext autoreload\n",
    "%autoreload 2"
   ]
  },
  {
   "cell_type": "markdown",
   "metadata": {},
   "source": [
    "## Parse input"
   ]
  },
  {
   "cell_type": "code",
   "execution_count": 7,
   "metadata": {},
   "outputs": [
    {
     "data": {
      "text/plain": [
       "[{'tweet_id': '5956',\n",
       "  'category': 'NEUTRAL',\n",
       "  'text': 'PUBLICIDAD SUBLIMINAL http://t.co/Tj1FJI0R1l http://t.co/LbjFbyqI1i vía @gaceta_es #27S #Catalunya'},\n",
       " {'tweet_id': '5436',\n",
       "  'category': 'AGAINST',\n",
       "  'text': '@CiudadanosCs de #Cataluña, gracias por \"resistir\" y trabajar 365 días con mano tendida para construir, no para romper nada. #ApoderadosCs'},\n",
       " {'tweet_id': '6083',\n",
       "  'category': 'NEUTRAL',\n",
       "  'text': 'Hay vida más allá del #27S #firamedievalspm # santaperpetua #mascosta http://t.co/50lS2VRVTG'},\n",
       " {'tweet_id': '4405',\n",
       "  'category': 'NEUTRAL',\n",
       "  'text': 'viendo en VIVO en #Periscope: Sede Ciudadanos:hablamos con los militantes #27S https://t.co/xjXDtX11bH'},\n",
       " {'tweet_id': '7920', 'category': 'NEUTRAL', 'text': 'Paciencia #27S'}]"
      ]
     },
     "execution_count": 7,
     "metadata": {},
     "output_type": "execute_result"
    }
   ],
   "source": [
    "tweets = dataset.read_tweets('DatasetFavCon')\n",
    "tweets[:5]"
   ]
  },
  {
   "cell_type": "markdown",
   "metadata": {},
   "source": [
    "## Pre-processing dataset"
   ]
  },
  {
   "cell_type": "code",
   "execution_count": 8,
   "metadata": {},
   "outputs": [
    {
     "data": {
      "text/plain": [
       "[({'publicidad': True, 'sublimin': True}, 'NEUTRAL'),\n",
       " ({'cataluña': True,\n",
       "   'gracia': True,\n",
       "   'resistir': True,\n",
       "   'trabajar': True,\n",
       "   '365': True,\n",
       "   'día': True,\n",
       "   'mano': True,\n",
       "   'tendida': True,\n",
       "   'construir': True,\n",
       "   'romper': True,\n",
       "   'apoderadosc': True},\n",
       "  'AGAINST')]"
      ]
     },
     "execution_count": 8,
     "metadata": {},
     "output_type": "execute_result"
    }
   ],
   "source": [
    "data = nlp.run_pipeline(tweets, [\n",
    "    nlp.remove_old_style_retweet_text,\n",
    "    nlp.remove_hyperlinks,\n",
    "    nlp.remove_hashtags,\n",
    "    nlp.tokenize,\n",
    "    nlp.reject_stopwords,\n",
    "    nlp.reject_emoticons,\n",
    "    nlp.reject_punctuations,\n",
    "    nlp.stem,\n",
    "    nlp.bag_of_words\n",
    "])\n",
    "data[:2]"
   ]
  },
  {
   "cell_type": "markdown",
   "metadata": {},
   "source": [
    "## Predicting with a NaiveBayesClassifier"
   ]
  },
  {
   "cell_type": "code",
   "execution_count": 9,
   "metadata": {},
   "outputs": [
    {
     "data": {
      "text/plain": [
       "0.6878612716763006"
      ]
     },
     "execution_count": 9,
     "metadata": {},
     "output_type": "execute_result"
    }
   ],
   "source": [
    "TEST_SIZE = 0.2\n",
    "\n",
    "result = classifiers.classify_with_naive_bayes(data, TEST_SIZE)\n",
    "result['accuracy']"
   ]
  },
  {
   "cell_type": "markdown",
   "metadata": {},
   "source": [
    "## Analysis of the results"
   ]
  },
  {
   "cell_type": "code",
   "execution_count": 10,
   "metadata": {},
   "outputs": [
    {
     "name": "stdout",
     "output_type": "stream",
     "text": [
      "Most Informative Features\n",
      "                    avui = True            FAVOR : NEUTRA =     36.8 : 1.0\n",
      "           independència = True            FAVOR : NEUTRA =     16.7 : 1.0\n",
      "                història = True            FAVOR : NEUTRA =     12.0 : 1.0\n",
      "                  escaño = True           AGAINS : FAVOR  =     11.8 : 1.0\n",
      "              juntspelsi = True            FAVOR : NEUTRA =     11.8 : 1.0\n",
      "                      10 = True           NEUTRA : FAVOR  =     10.9 : 1.0\n",
      "                      ja = True            FAVOR : AGAINS =     10.6 : 1.0\n",
      "                     dia = True            FAVOR : AGAINS =     10.2 : 1.0\n",
      "              juntspelsí = True            FAVOR : NEUTRA =     10.0 : 1.0\n",
      "                      pp = True           NEUTRA : FAVOR  =      9.9 : 1.0\n"
     ]
    }
   ],
   "source": [
    "classifier = result['classifier']\n",
    "classifier.show_most_informative_features(10)"
   ]
  }
 ],
 "metadata": {
  "kernelspec": {
   "display_name": "Python 3",
   "language": "python",
   "name": "python3"
  },
  "language_info": {
   "codemirror_mode": {
    "name": "ipython",
    "version": 3
   },
   "file_extension": ".py",
   "mimetype": "text/x-python",
   "name": "python",
   "nbconvert_exporter": "python",
   "pygments_lexer": "ipython3",
   "version": "3.6.6"
  }
 },
 "nbformat": 4,
 "nbformat_minor": 2
}
