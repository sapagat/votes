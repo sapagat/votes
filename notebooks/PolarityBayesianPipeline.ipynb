{
 "cells": [
  {
   "cell_type": "code",
   "execution_count": 1,
   "metadata": {},
   "outputs": [],
   "source": [
    "import utils.functions as fun\n",
    "\n",
    "%load_ext autoreload\n",
    "%autoreload 2"
   ]
  },
  {
   "cell_type": "markdown",
   "metadata": {},
   "source": [
    "## Parse input"
   ]
  },
  {
   "cell_type": "code",
   "execution_count": 2,
   "metadata": {},
   "outputs": [
    {
     "data": {
      "text/plain": [
       "[{'tweet_id': '5247',\n",
       "  'category': 'AGAINST',\n",
       "  'text': 'Victoria del sí, o victoria del NO?? Menos del 50% a favor en #eleccionescatalanas #27S'},\n",
       " {'tweet_id': '4103',\n",
       "  'category': 'NEUTRAL',\n",
       "  'text': 'El PP ja no té vot ocult a Catalunya. Sembla ser que Ciutadans ha capitalitzat el vot del no #27s Veurem què passa...'},\n",
       " {'tweet_id': '5468',\n",
       "  'category': 'AGAINST',\n",
       "  'text': '#27S Que la participación haya subido es buen dato. Que lo haga para desmantelar una mentira como la independentista sería lo ideal.'},\n",
       " {'tweet_id': '1797',\n",
       "  'category': 'FAVOR',\n",
       "  'text': '#Catalunya opta per #independència a les urnes. http://t.co/k4ysUuXRiq @laclaunoticies #JuntsPelSí #27S #HemGuanyat http://t.co/I4PVgbuKPa'},\n",
       " {'tweet_id': '4886',\n",
       "  'category': 'AGAINST',\n",
       "  'text': 'Los que plantean las elecciones del #27S como plebiscitarias son los que dicen que ganan con resultados parlamentarios. O lo uno o lo otro'}]"
      ]
     },
     "execution_count": 2,
     "metadata": {},
     "output_type": "execute_result"
    }
   ],
   "source": [
    "tweets = fun.parse_input_as_dictonary('DatasetFavCon')\n",
    "tweets[:5]"
   ]
  },
  {
   "cell_type": "markdown",
   "metadata": {},
   "source": [
    "## Pre-processing of a tweet"
   ]
  },
  {
   "cell_type": "code",
   "execution_count": 3,
   "metadata": {},
   "outputs": [
    {
     "data": {
      "text/plain": [
       "'A #Oliana: 84,39% participació. Resultats @JuntsPelSi 811 Cup 76 Ciutadans 61 Catalunya si q es pot 28 Psc 66 Pp 60 Unio 43 #GuanyemJunts'"
      ]
     },
     "execution_count": 3,
     "metadata": {},
     "output_type": "execute_result"
    }
   ],
   "source": [
    "a_tweet = \"A #Oliana: 84,39% participació. Resultats @JuntsPelSi 811 Cup 76 Ciutadans 61 Catalunya si q es pot 28 Psc 66 Pp 60 Unio 43 #GuanyemJunts\"\n",
    "a_tweet"
   ]
  },
  {
   "cell_type": "code",
   "execution_count": 4,
   "metadata": {},
   "outputs": [
    {
     "data": {
      "text/plain": [
       "'A Oliana: 84,39% participació. Resultats @JuntsPelSi 811 Cup 76 Ciutadans 61 Catalunya si q es pot 28 Psc 66 Pp 60 Unio 43 GuanyemJunts'"
      ]
     },
     "execution_count": 4,
     "metadata": {},
     "output_type": "execute_result"
    }
   ],
   "source": [
    "clean_tweet = fun.remove_characters_from_tweet(a_tweet)\n",
    "clean_tweet"
   ]
  },
  {
   "cell_type": "code",
   "execution_count": 5,
   "metadata": {},
   "outputs": [
    {
     "data": {
      "text/plain": [
       "['a',\n",
       " 'oliana',\n",
       " ':',\n",
       " '84,39',\n",
       " '%',\n",
       " 'participació',\n",
       " '.',\n",
       " 'resultats',\n",
       " '811',\n",
       " 'cup',\n",
       " '76',\n",
       " 'ciutadans',\n",
       " '61',\n",
       " 'catalunya',\n",
       " 'si',\n",
       " 'q',\n",
       " 'es',\n",
       " 'pot',\n",
       " '28',\n",
       " 'psc',\n",
       " '66',\n",
       " 'pp',\n",
       " '60',\n",
       " 'unio',\n",
       " '43',\n",
       " 'guanyemjunts']"
      ]
     },
     "execution_count": 5,
     "metadata": {},
     "output_type": "execute_result"
    }
   ],
   "source": [
    "tokens = fun.tokenize(clean_tweet)\n",
    "tokens"
   ]
  },
  {
   "cell_type": "code",
   "execution_count": 6,
   "metadata": {},
   "outputs": [
    {
     "data": {
      "text/plain": [
       "['oliana',\n",
       " '84,39',\n",
       " 'participació',\n",
       " 'resultats',\n",
       " '811',\n",
       " 'cup',\n",
       " '76',\n",
       " 'ciutadans',\n",
       " '61',\n",
       " 'catalunya',\n",
       " 'si',\n",
       " 'q',\n",
       " 'pot',\n",
       " '28',\n",
       " 'psc',\n",
       " '66',\n",
       " 'pp',\n",
       " '60',\n",
       " 'unio',\n",
       " '43',\n",
       " 'guanyemjunts']"
      ]
     },
     "execution_count": 6,
     "metadata": {},
     "output_type": "execute_result"
    }
   ],
   "source": [
    "words = fun.filter_tokens(tokens)\n",
    "words"
   ]
  },
  {
   "cell_type": "code",
   "execution_count": 7,
   "metadata": {},
   "outputs": [
    {
     "data": {
      "text/plain": [
       "['oliana',\n",
       " '84,39',\n",
       " 'participació',\n",
       " 'resultat',\n",
       " '811',\n",
       " 'cup',\n",
       " '76',\n",
       " 'ciutadan',\n",
       " '61',\n",
       " 'catalunya',\n",
       " 'si',\n",
       " 'q',\n",
       " 'pot',\n",
       " '28',\n",
       " 'psc',\n",
       " '66',\n",
       " 'pp',\n",
       " '60',\n",
       " 'unio',\n",
       " '43',\n",
       " 'guanyemjunt']"
      ]
     },
     "execution_count": 7,
     "metadata": {},
     "output_type": "execute_result"
    }
   ],
   "source": [
    "stems = fun.stem(words)\n",
    "stems"
   ]
  },
  {
   "cell_type": "code",
   "execution_count": 8,
   "metadata": {},
   "outputs": [
    {
     "data": {
      "text/plain": [
       "{'oliana': True,\n",
       " '84,39': True,\n",
       " 'participació': True,\n",
       " 'resultat': True,\n",
       " '811': True,\n",
       " 'cup': True,\n",
       " '76': True,\n",
       " 'ciutadan': True,\n",
       " '61': True,\n",
       " 'catalunya': True,\n",
       " 'si': True,\n",
       " 'q': True,\n",
       " 'pot': True,\n",
       " '28': True,\n",
       " 'psc': True,\n",
       " '66': True,\n",
       " 'pp': True,\n",
       " '60': True,\n",
       " 'unio': True,\n",
       " '43': True,\n",
       " 'guanyemjunt': True}"
      ]
     },
     "execution_count": 8,
     "metadata": {},
     "output_type": "execute_result"
    }
   ],
   "source": [
    "bag_of_words = fun.bag_of_words(stems)\n",
    "bag_of_words"
   ]
  },
  {
   "cell_type": "markdown",
   "metadata": {},
   "source": [
    "## Pre-processing dataset"
   ]
  },
  {
   "cell_type": "code",
   "execution_count": 9,
   "metadata": {},
   "outputs": [
    {
     "data": {
      "text/plain": [
       "[({'victoria': True,\n",
       "   'meno': True,\n",
       "   '50': True,\n",
       "   'favor': True,\n",
       "   'eleccionescatalana': True,\n",
       "   '27': True},\n",
       "  'AGAINST'),\n",
       " ({'pp': True,\n",
       "   'ja': True,\n",
       "   'té': True,\n",
       "   'vot': True,\n",
       "   'ocult': True,\n",
       "   'catalunya': True,\n",
       "   'sembla': True,\n",
       "   'ser': True,\n",
       "   'ciutadan': True,\n",
       "   'capitalitzat': True,\n",
       "   '27': True,\n",
       "   'veurem': True,\n",
       "   'què': True,\n",
       "   'passa': True,\n",
       "   '...': True},\n",
       "  'NEUTRAL')]"
      ]
     },
     "execution_count": 9,
     "metadata": {},
     "output_type": "execute_result"
    }
   ],
   "source": [
    "pipeline = [\n",
    "    fun.remove_characters_from_tweet,\n",
    "    fun.tokenize,\n",
    "    fun.filter_tokens,\n",
    "    fun.stem,\n",
    "    fun.bag_of_words\n",
    "]\n",
    "\n",
    "data = fun.labeled_featureset(tweets, pipeline)\n",
    "data[:2]"
   ]
  },
  {
   "cell_type": "markdown",
   "metadata": {},
   "source": [
    "## Predicting with a NaiveBayesClassifier"
   ]
  },
  {
   "cell_type": "code",
   "execution_count": 10,
   "metadata": {},
   "outputs": [
    {
     "data": {
      "text/plain": [
       "0.6957295373665481"
      ]
     },
     "execution_count": 10,
     "metadata": {},
     "output_type": "execute_result"
    }
   ],
   "source": [
    "TEST_SIZE = 0.2\n",
    "\n",
    "result = fun.classify_with_naive_bayes(data, TEST_SIZE)\n",
    "result['accuracy']"
   ]
  },
  {
   "cell_type": "markdown",
   "metadata": {},
   "source": [
    "## Analysis of the results"
   ]
  },
  {
   "cell_type": "code",
   "execution_count": 11,
   "metadata": {},
   "outputs": [
    {
     "name": "stdout",
     "output_type": "stream",
     "text": [
      "Most Informative Features\n",
      "             guanyemjunt = True            FAVOR : NEUTRA =    128.1 : 1.0\n",
      "             apoderadosc = True           AGAINS : NEUTRA =    124.5 : 1.0\n",
      "                   iceta = True           AGAINS : FAVOR  =    101.3 : 1.0\n",
      "               llibertat = True            FAVOR : NEUTRA =     85.3 : 1.0\n",
      "                      il = True            FAVOR : NEUTRA =     76.1 : 1.0\n",
      "           participación = True           NEUTRA : FAVOR  =     75.4 : 1.0\n",
      "             enhorabuena = True           AGAINS : FAVOR  =     48.5 : 1.0\n",
      "                   lliur = True            FAVOR : NEUTRA =     46.6 : 1.0\n",
      "              governemno = True            FAVOR : AGAINS =     35.5 : 1.0\n",
      "                   futur = True            FAVOR : AGAINS =     34.1 : 1.0\n"
     ]
    }
   ],
   "source": [
    "classifier = result['classifier']\n",
    "classifier.show_most_informative_features(10)"
   ]
  },
  {
   "cell_type": "code",
   "execution_count": null,
   "metadata": {},
   "outputs": [],
   "source": []
  },
  {
   "cell_type": "code",
   "execution_count": null,
   "metadata": {},
   "outputs": [],
   "source": []
  }
 ],
 "metadata": {
  "kernelspec": {
   "display_name": "Python 3",
   "language": "python",
   "name": "python3"
  },
  "language_info": {
   "codemirror_mode": {
    "name": "ipython",
    "version": 3
   },
   "file_extension": ".py",
   "mimetype": "text/x-python",
   "name": "python",
   "nbconvert_exporter": "python",
   "pygments_lexer": "ipython3",
   "version": "3.6.6"
  }
 },
 "nbformat": 4,
 "nbformat_minor": 2
}
