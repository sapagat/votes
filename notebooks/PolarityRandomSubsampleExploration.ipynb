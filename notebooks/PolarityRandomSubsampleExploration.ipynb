{
 "cells": [
  {
   "cell_type": "code",
   "execution_count": 6,
   "metadata": {},
   "outputs": [
    {
     "name": "stdout",
     "output_type": "stream",
     "text": [
      "The autoreload extension is already loaded. To reload it, use:\n",
      "  %reload_ext autoreload\n"
     ]
    }
   ],
   "source": [
    "from utils import frame\n",
    "from utils import pipelines\n",
    "\n",
    "%load_ext autoreload\n",
    "%autoreload 2"
   ]
  },
  {
   "cell_type": "code",
   "execution_count": 7,
   "metadata": {},
   "outputs": [
    {
     "data": {
      "text/html": [
       "<div>\n",
       "<style scoped>\n",
       "    .dataframe tbody tr th:only-of-type {\n",
       "        vertical-align: middle;\n",
       "    }\n",
       "\n",
       "    .dataframe tbody tr th {\n",
       "        vertical-align: top;\n",
       "    }\n",
       "\n",
       "    .dataframe thead th {\n",
       "        text-align: right;\n",
       "    }\n",
       "</style>\n",
       "<table border=\"1\" class=\"dataframe\">\n",
       "  <thead>\n",
       "    <tr style=\"text-align: right;\">\n",
       "      <th></th>\n",
       "      <th>category</th>\n",
       "      <th>text</th>\n",
       "      <th>tweet_id</th>\n",
       "    </tr>\n",
       "  </thead>\n",
       "  <tbody>\n",
       "    <tr>\n",
       "      <th>0</th>\n",
       "      <td>AGAINST</td>\n",
       "      <td>Victoria del sí, o victoria del NO?? Menos del...</td>\n",
       "      <td>5247</td>\n",
       "    </tr>\n",
       "    <tr>\n",
       "      <th>1</th>\n",
       "      <td>NEUTRAL</td>\n",
       "      <td>El PP ja no té vot ocult a Catalunya. Sembla s...</td>\n",
       "      <td>4103</td>\n",
       "    </tr>\n",
       "    <tr>\n",
       "      <th>2</th>\n",
       "      <td>AGAINST</td>\n",
       "      <td>#27S Que la participación haya subido es buen ...</td>\n",
       "      <td>5468</td>\n",
       "    </tr>\n",
       "    <tr>\n",
       "      <th>3</th>\n",
       "      <td>FAVOR</td>\n",
       "      <td>#Catalunya opta per #independència a les urnes...</td>\n",
       "      <td>1797</td>\n",
       "    </tr>\n",
       "    <tr>\n",
       "      <th>4</th>\n",
       "      <td>AGAINST</td>\n",
       "      <td>Los que plantean las elecciones del #27S como ...</td>\n",
       "      <td>4886</td>\n",
       "    </tr>\n",
       "  </tbody>\n",
       "</table>\n",
       "</div>"
      ],
      "text/plain": [
       "  category                                               text tweet_id\n",
       "0  AGAINST  Victoria del sí, o victoria del NO?? Menos del...     5247\n",
       "1  NEUTRAL  El PP ja no té vot ocult a Catalunya. Sembla s...     4103\n",
       "2  AGAINST  #27S Que la participación haya subido es buen ...     5468\n",
       "3    FAVOR  #Catalunya opta per #independència a les urnes...     1797\n",
       "4  AGAINST  Los que plantean las elecciones del #27S como ...     4886"
      ]
     },
     "execution_count": 7,
     "metadata": {},
     "output_type": "execute_result"
    }
   ],
   "source": [
    "tweets = frame.read_tweets('DatasetFavCon')\n",
    "tweets.head()"
   ]
  },
  {
   "cell_type": "code",
   "execution_count": 8,
   "metadata": {},
   "outputs": [],
   "source": [
    "FRACTIONS = [0.1, 0.2, 0.3, 0.4]\n",
    "REPLICAS = 3"
   ]
  },
  {
   "cell_type": "markdown",
   "metadata": {},
   "source": [
    "### Control Category Distribution"
   ]
  },
  {
   "cell_type": "code",
   "execution_count": 9,
   "metadata": {
    "scrolled": true
   },
   "outputs": [
    {
     "data": {
      "text/plain": [
       "{'NEUTRAL': 0.47264744274356235,\n",
       " 'FAVOR': 0.3447252877655156,\n",
       " 'AGAINST': 0.18262726949092203}"
      ]
     },
     "execution_count": 9,
     "metadata": {},
     "output_type": "execute_result"
    }
   ],
   "source": [
    "frame.percentage_by_category(tweets)"
   ]
  },
  {
   "cell_type": "markdown",
   "metadata": {},
   "source": [
    "### Grid Subsampling"
   ]
  },
  {
   "cell_type": "code",
   "execution_count": 10,
   "metadata": {},
   "outputs": [
    {
     "data": {
      "text/html": [
       "<div>\n",
       "<style scoped>\n",
       "    .dataframe tbody tr th:only-of-type {\n",
       "        vertical-align: middle;\n",
       "    }\n",
       "\n",
       "    .dataframe tbody tr th {\n",
       "        vertical-align: top;\n",
       "    }\n",
       "\n",
       "    .dataframe thead th {\n",
       "        text-align: right;\n",
       "    }\n",
       "</style>\n",
       "<table border=\"1\" class=\"dataframe\">\n",
       "  <thead>\n",
       "    <tr style=\"text-align: right;\">\n",
       "      <th></th>\n",
       "      <th>AGAINST</th>\n",
       "      <th>FAVOR</th>\n",
       "      <th>NEUTRAL</th>\n",
       "      <th>fraction</th>\n",
       "    </tr>\n",
       "  </thead>\n",
       "  <tbody>\n",
       "    <tr>\n",
       "      <th>0</th>\n",
       "      <td>0.177936</td>\n",
       "      <td>0.359431</td>\n",
       "      <td>0.462633</td>\n",
       "      <td>0.1</td>\n",
       "    </tr>\n",
       "    <tr>\n",
       "      <th>1</th>\n",
       "      <td>0.164887</td>\n",
       "      <td>0.360617</td>\n",
       "      <td>0.474496</td>\n",
       "      <td>0.1</td>\n",
       "    </tr>\n",
       "    <tr>\n",
       "      <th>2</th>\n",
       "      <td>0.183867</td>\n",
       "      <td>0.354686</td>\n",
       "      <td>0.461447</td>\n",
       "      <td>0.1</td>\n",
       "    </tr>\n",
       "    <tr>\n",
       "      <th>3</th>\n",
       "      <td>0.183383</td>\n",
       "      <td>0.340653</td>\n",
       "      <td>0.475964</td>\n",
       "      <td>0.2</td>\n",
       "    </tr>\n",
       "    <tr>\n",
       "      <th>4</th>\n",
       "      <td>0.182789</td>\n",
       "      <td>0.335312</td>\n",
       "      <td>0.481899</td>\n",
       "      <td>0.2</td>\n",
       "    </tr>\n",
       "    <tr>\n",
       "      <th>5</th>\n",
       "      <td>0.183976</td>\n",
       "      <td>0.356083</td>\n",
       "      <td>0.459941</td>\n",
       "      <td>0.2</td>\n",
       "    </tr>\n",
       "    <tr>\n",
       "      <th>6</th>\n",
       "      <td>0.174842</td>\n",
       "      <td>0.357199</td>\n",
       "      <td>0.467959</td>\n",
       "      <td>0.3</td>\n",
       "    </tr>\n",
       "    <tr>\n",
       "      <th>7</th>\n",
       "      <td>0.180380</td>\n",
       "      <td>0.340190</td>\n",
       "      <td>0.479430</td>\n",
       "      <td>0.3</td>\n",
       "    </tr>\n",
       "    <tr>\n",
       "      <th>8</th>\n",
       "      <td>0.191060</td>\n",
       "      <td>0.351266</td>\n",
       "      <td>0.457674</td>\n",
       "      <td>0.3</td>\n",
       "    </tr>\n",
       "    <tr>\n",
       "      <th>9</th>\n",
       "      <td>0.184515</td>\n",
       "      <td>0.356274</td>\n",
       "      <td>0.459211</td>\n",
       "      <td>0.4</td>\n",
       "    </tr>\n",
       "    <tr>\n",
       "      <th>10</th>\n",
       "      <td>0.181549</td>\n",
       "      <td>0.350934</td>\n",
       "      <td>0.467517</td>\n",
       "      <td>0.4</td>\n",
       "    </tr>\n",
       "    <tr>\n",
       "      <th>11</th>\n",
       "      <td>0.192524</td>\n",
       "      <td>0.336992</td>\n",
       "      <td>0.470484</td>\n",
       "      <td>0.4</td>\n",
       "    </tr>\n",
       "  </tbody>\n",
       "</table>\n",
       "</div>"
      ],
      "text/plain": [
       "     AGAINST     FAVOR   NEUTRAL  fraction\n",
       "0   0.177936  0.359431  0.462633       0.1\n",
       "1   0.164887  0.360617  0.474496       0.1\n",
       "2   0.183867  0.354686  0.461447       0.1\n",
       "3   0.183383  0.340653  0.475964       0.2\n",
       "4   0.182789  0.335312  0.481899       0.2\n",
       "5   0.183976  0.356083  0.459941       0.2\n",
       "6   0.174842  0.357199  0.467959       0.3\n",
       "7   0.180380  0.340190  0.479430       0.3\n",
       "8   0.191060  0.351266  0.457674       0.3\n",
       "9   0.184515  0.356274  0.459211       0.4\n",
       "10  0.181549  0.350934  0.467517       0.4\n",
       "11  0.192524  0.336992  0.470484       0.4"
      ]
     },
     "execution_count": 10,
     "metadata": {},
     "output_type": "execute_result"
    }
   ],
   "source": [
    "categories = frame.categories_proportion_matrix(tweets, FRACTIONS, REPLICAS)\n",
    "categories"
   ]
  },
  {
   "cell_type": "code",
   "execution_count": 11,
   "metadata": {},
   "outputs": [
    {
     "data": {
      "text/html": [
       "<div>\n",
       "<style scoped>\n",
       "    .dataframe tbody tr th:only-of-type {\n",
       "        vertical-align: middle;\n",
       "    }\n",
       "\n",
       "    .dataframe tbody tr th {\n",
       "        vertical-align: top;\n",
       "    }\n",
       "\n",
       "    .dataframe thead th {\n",
       "        text-align: right;\n",
       "    }\n",
       "</style>\n",
       "<table border=\"1\" class=\"dataframe\">\n",
       "  <thead>\n",
       "    <tr style=\"text-align: right;\">\n",
       "      <th></th>\n",
       "      <th>AGAINST</th>\n",
       "      <th>FAVOR</th>\n",
       "      <th>NEUTRAL</th>\n",
       "      <th>fraction</th>\n",
       "    </tr>\n",
       "  </thead>\n",
       "  <tbody>\n",
       "    <tr>\n",
       "      <th>count</th>\n",
       "      <td>12.000000</td>\n",
       "      <td>12.000000</td>\n",
       "      <td>12.000000</td>\n",
       "      <td>12.000000</td>\n",
       "    </tr>\n",
       "    <tr>\n",
       "      <th>mean</th>\n",
       "      <td>0.181809</td>\n",
       "      <td>0.349970</td>\n",
       "      <td>0.468221</td>\n",
       "      <td>0.250000</td>\n",
       "    </tr>\n",
       "    <tr>\n",
       "      <th>std</th>\n",
       "      <td>0.007212</td>\n",
       "      <td>0.009159</td>\n",
       "      <td>0.008289</td>\n",
       "      <td>0.116775</td>\n",
       "    </tr>\n",
       "    <tr>\n",
       "      <th>min</th>\n",
       "      <td>0.164887</td>\n",
       "      <td>0.335312</td>\n",
       "      <td>0.457674</td>\n",
       "      <td>0.100000</td>\n",
       "    </tr>\n",
       "    <tr>\n",
       "      <th>25%</th>\n",
       "      <td>0.179769</td>\n",
       "      <td>0.340537</td>\n",
       "      <td>0.461071</td>\n",
       "      <td>0.175000</td>\n",
       "    </tr>\n",
       "    <tr>\n",
       "      <th>50%</th>\n",
       "      <td>0.183086</td>\n",
       "      <td>0.352976</td>\n",
       "      <td>0.467738</td>\n",
       "      <td>0.250000</td>\n",
       "    </tr>\n",
       "    <tr>\n",
       "      <th>75%</th>\n",
       "      <td>0.184111</td>\n",
       "      <td>0.356505</td>\n",
       "      <td>0.474863</td>\n",
       "      <td>0.325000</td>\n",
       "    </tr>\n",
       "    <tr>\n",
       "      <th>max</th>\n",
       "      <td>0.192524</td>\n",
       "      <td>0.360617</td>\n",
       "      <td>0.481899</td>\n",
       "      <td>0.400000</td>\n",
       "    </tr>\n",
       "  </tbody>\n",
       "</table>\n",
       "</div>"
      ],
      "text/plain": [
       "         AGAINST      FAVOR    NEUTRAL   fraction\n",
       "count  12.000000  12.000000  12.000000  12.000000\n",
       "mean    0.181809   0.349970   0.468221   0.250000\n",
       "std     0.007212   0.009159   0.008289   0.116775\n",
       "min     0.164887   0.335312   0.457674   0.100000\n",
       "25%     0.179769   0.340537   0.461071   0.175000\n",
       "50%     0.183086   0.352976   0.467738   0.250000\n",
       "75%     0.184111   0.356505   0.474863   0.325000\n",
       "max     0.192524   0.360617   0.481899   0.400000"
      ]
     },
     "execution_count": 11,
     "metadata": {},
     "output_type": "execute_result"
    }
   ],
   "source": [
    "categories.describe()"
   ]
  },
  {
   "cell_type": "markdown",
   "metadata": {},
   "source": [
    "### Compara Bayesian pipeline with different subsamples"
   ]
  },
  {
   "cell_type": "code",
   "execution_count": 12,
   "metadata": {},
   "outputs": [
    {
     "data": {
      "text/plain": [
       "{'start': '2019-04-19 12:35:50.660708',\n",
       " 'finish': '2019-04-19 12:35:59.272730',\n",
       " 'accuracy': 0.6856465005931198}"
      ]
     },
     "execution_count": 12,
     "metadata": {},
     "output_type": "execute_result"
    }
   ],
   "source": [
    "pipelines.run_naive_bayesian(tweets.to_dict('records'))"
   ]
  },
  {
   "cell_type": "code",
   "execution_count": 13,
   "metadata": {},
   "outputs": [
    {
     "data": {
      "text/plain": [
       "[{'start': '2019-04-19 12:35:59.320913',\n",
       "  'finish': '2019-04-19 12:36:00.180323',\n",
       "  'accuracy': 0.6568047337278107,\n",
       "  'fraction': 0.1},\n",
       " {'start': '2019-04-19 12:36:00.194646',\n",
       "  'finish': '2019-04-19 12:36:01.014115',\n",
       "  'accuracy': 0.6627218934911243,\n",
       "  'fraction': 0.1},\n",
       " {'start': '2019-04-19 12:36:01.024249',\n",
       "  'finish': '2019-04-19 12:36:01.821136',\n",
       "  'accuracy': 0.6627218934911243,\n",
       "  'fraction': 0.1},\n",
       " {'start': '2019-04-19 12:36:01.837323',\n",
       "  'finish': '2019-04-19 12:36:03.496000',\n",
       "  'accuracy': 0.6795252225519288,\n",
       "  'fraction': 0.2},\n",
       " {'start': '2019-04-19 12:36:03.514506',\n",
       "  'finish': '2019-04-19 12:36:05.172541',\n",
       "  'accuracy': 0.6765578635014837,\n",
       "  'fraction': 0.2},\n",
       " {'start': '2019-04-19 12:36:05.191023',\n",
       "  'finish': '2019-04-19 12:36:06.948324',\n",
       "  'accuracy': 0.6231454005934718,\n",
       "  'fraction': 0.2},\n",
       " {'start': '2019-04-19 12:36:06.973122',\n",
       "  'finish': '2019-04-19 12:36:09.431044',\n",
       "  'accuracy': 0.6798418972332015,\n",
       "  'fraction': 0.3},\n",
       " {'start': '2019-04-19 12:36:09.459638',\n",
       "  'finish': '2019-04-19 12:36:12.158279',\n",
       "  'accuracy': 0.6857707509881423,\n",
       "  'fraction': 0.3},\n",
       " {'start': '2019-04-19 12:36:12.186258',\n",
       "  'finish': '2019-04-19 12:36:14.804140',\n",
       "  'accuracy': 0.6778656126482213,\n",
       "  'fraction': 0.3},\n",
       " {'start': '2019-04-19 12:36:14.837686',\n",
       "  'finish': '2019-04-19 12:36:18.294444',\n",
       "  'accuracy': 0.68,\n",
       "  'fraction': 0.4},\n",
       " {'start': '2019-04-19 12:36:18.329072',\n",
       "  'finish': '2019-04-19 12:36:22.038433',\n",
       "  'accuracy': 0.6711111111111111,\n",
       "  'fraction': 0.4},\n",
       " {'start': '2019-04-19 12:36:22.074150',\n",
       "  'finish': '2019-04-19 12:36:25.626621',\n",
       "  'accuracy': 0.6844444444444444,\n",
       "  'fraction': 0.4}]"
      ]
     },
     "execution_count": 13,
     "metadata": {},
     "output_type": "execute_result"
    }
   ],
   "source": [
    "pipelines.run_multisamples_naive_bayesian(tweets, FRACTIONS, REPLICAS)"
   ]
  },
  {
   "cell_type": "markdown",
   "metadata": {},
   "source": [
    "### Comparte SVM pipeline with different subsamples"
   ]
  },
  {
   "cell_type": "code",
   "execution_count": 14,
   "metadata": {},
   "outputs": [
    {
     "name": "stderr",
     "output_type": "stream",
     "text": [
      "/root/.local/share/virtualenvs/app-ueEJiAOq/lib/python3.6/site-packages/sklearn/svm/base.py:244: ConvergenceWarning: Solver terminated early (max_iter=500).  Consider pre-processing your data with StandardScaler or MinMaxScaler.\n",
      "  % self.max_iter, ConvergenceWarning)\n"
     ]
    },
    {
     "data": {
      "text/plain": [
       "{'start': '2019-04-19 12:36:25.768536',\n",
       " 'finish': '2019-04-19 12:43:02.885916',\n",
       " 'accuracy': 0.6731909845788849}"
      ]
     },
     "execution_count": 14,
     "metadata": {},
     "output_type": "execute_result"
    }
   ],
   "source": [
    "pipelines.run_svm(tweets.to_dict('records'))"
   ]
  },
  {
   "cell_type": "code",
   "execution_count": 15,
   "metadata": {},
   "outputs": [
    {
     "name": "stderr",
     "output_type": "stream",
     "text": [
      "/root/.local/share/virtualenvs/app-ueEJiAOq/lib/python3.6/site-packages/sklearn/svm/base.py:244: ConvergenceWarning: Solver terminated early (max_iter=500).  Consider pre-processing your data with StandardScaler or MinMaxScaler.\n",
      "  % self.max_iter, ConvergenceWarning)\n",
      "/root/.local/share/virtualenvs/app-ueEJiAOq/lib/python3.6/site-packages/sklearn/svm/base.py:244: ConvergenceWarning: Solver terminated early (max_iter=500).  Consider pre-processing your data with StandardScaler or MinMaxScaler.\n",
      "  % self.max_iter, ConvergenceWarning)\n",
      "/root/.local/share/virtualenvs/app-ueEJiAOq/lib/python3.6/site-packages/sklearn/svm/base.py:244: ConvergenceWarning: Solver terminated early (max_iter=500).  Consider pre-processing your data with StandardScaler or MinMaxScaler.\n",
      "  % self.max_iter, ConvergenceWarning)\n",
      "/root/.local/share/virtualenvs/app-ueEJiAOq/lib/python3.6/site-packages/sklearn/svm/base.py:244: ConvergenceWarning: Solver terminated early (max_iter=500).  Consider pre-processing your data with StandardScaler or MinMaxScaler.\n",
      "  % self.max_iter, ConvergenceWarning)\n",
      "/root/.local/share/virtualenvs/app-ueEJiAOq/lib/python3.6/site-packages/sklearn/svm/base.py:244: ConvergenceWarning: Solver terminated early (max_iter=500).  Consider pre-processing your data with StandardScaler or MinMaxScaler.\n",
      "  % self.max_iter, ConvergenceWarning)\n",
      "/root/.local/share/virtualenvs/app-ueEJiAOq/lib/python3.6/site-packages/sklearn/svm/base.py:244: ConvergenceWarning: Solver terminated early (max_iter=500).  Consider pre-processing your data with StandardScaler or MinMaxScaler.\n",
      "  % self.max_iter, ConvergenceWarning)\n",
      "/root/.local/share/virtualenvs/app-ueEJiAOq/lib/python3.6/site-packages/sklearn/svm/base.py:244: ConvergenceWarning: Solver terminated early (max_iter=500).  Consider pre-processing your data with StandardScaler or MinMaxScaler.\n",
      "  % self.max_iter, ConvergenceWarning)\n",
      "/root/.local/share/virtualenvs/app-ueEJiAOq/lib/python3.6/site-packages/sklearn/svm/base.py:244: ConvergenceWarning: Solver terminated early (max_iter=500).  Consider pre-processing your data with StandardScaler or MinMaxScaler.\n",
      "  % self.max_iter, ConvergenceWarning)\n",
      "/root/.local/share/virtualenvs/app-ueEJiAOq/lib/python3.6/site-packages/sklearn/svm/base.py:244: ConvergenceWarning: Solver terminated early (max_iter=500).  Consider pre-processing your data with StandardScaler or MinMaxScaler.\n",
      "  % self.max_iter, ConvergenceWarning)\n",
      "/root/.local/share/virtualenvs/app-ueEJiAOq/lib/python3.6/site-packages/sklearn/svm/base.py:244: ConvergenceWarning: Solver terminated early (max_iter=500).  Consider pre-processing your data with StandardScaler or MinMaxScaler.\n",
      "  % self.max_iter, ConvergenceWarning)\n",
      "/root/.local/share/virtualenvs/app-ueEJiAOq/lib/python3.6/site-packages/sklearn/svm/base.py:244: ConvergenceWarning: Solver terminated early (max_iter=500).  Consider pre-processing your data with StandardScaler or MinMaxScaler.\n",
      "  % self.max_iter, ConvergenceWarning)\n",
      "/root/.local/share/virtualenvs/app-ueEJiAOq/lib/python3.6/site-packages/sklearn/svm/base.py:244: ConvergenceWarning: Solver terminated early (max_iter=500).  Consider pre-processing your data with StandardScaler or MinMaxScaler.\n",
      "  % self.max_iter, ConvergenceWarning)\n"
     ]
    },
    {
     "data": {
      "text/plain": [
       "[{'start': '2019-04-19 12:43:02.932105',\n",
       "  'finish': '2019-04-19 12:43:06.524830',\n",
       "  'accuracy': 0.6627218934911243,\n",
       "  'fraction': 0.1},\n",
       " {'start': '2019-04-19 12:43:06.532121',\n",
       "  'finish': '2019-04-19 12:43:10.059784',\n",
       "  'accuracy': 0.6094674556213018,\n",
       "  'fraction': 0.1},\n",
       " {'start': '2019-04-19 12:43:10.066811',\n",
       "  'finish': '2019-04-19 12:43:13.598428',\n",
       "  'accuracy': 0.6390532544378699,\n",
       "  'fraction': 0.1},\n",
       " {'start': '2019-04-19 12:43:13.612561',\n",
       "  'finish': '2019-04-19 12:43:30.430827',\n",
       "  'accuracy': 0.6795252225519288,\n",
       "  'fraction': 0.2},\n",
       " {'start': '2019-04-19 12:43:30.445841',\n",
       "  'finish': '2019-04-19 12:43:48.165584',\n",
       "  'accuracy': 0.6706231454005934,\n",
       "  'fraction': 0.2},\n",
       " {'start': '2019-04-19 12:43:48.181567',\n",
       "  'finish': '2019-04-19 12:44:06.599048',\n",
       "  'accuracy': 0.6676557863501483,\n",
       "  'fraction': 0.2},\n",
       " {'start': '2019-04-19 12:44:06.618603',\n",
       "  'finish': '2019-04-19 12:44:44.718592',\n",
       "  'accuracy': 0.7213438735177866,\n",
       "  'fraction': 0.3},\n",
       " {'start': '2019-04-19 12:44:44.740466',\n",
       "  'finish': '2019-04-19 12:45:24.498361',\n",
       "  'accuracy': 0.6699604743083004,\n",
       "  'fraction': 0.3},\n",
       " {'start': '2019-04-19 12:45:24.519483',\n",
       "  'finish': '2019-04-19 12:46:02.955939',\n",
       "  'accuracy': 0.6818181818181818,\n",
       "  'fraction': 0.3},\n",
       " {'start': '2019-04-19 12:46:02.982165',\n",
       "  'finish': '2019-04-19 12:47:11.323142',\n",
       "  'accuracy': 0.7155555555555555,\n",
       "  'fraction': 0.4},\n",
       " {'start': '2019-04-19 12:47:11.352808',\n",
       "  'finish': '2019-04-19 12:48:19.052593',\n",
       "  'accuracy': 0.72,\n",
       "  'fraction': 0.4},\n",
       " {'start': '2019-04-19 12:48:19.084863',\n",
       "  'finish': '2019-04-19 12:49:26.376621',\n",
       "  'accuracy': 0.7244444444444444,\n",
       "  'fraction': 0.4}]"
      ]
     },
     "execution_count": 15,
     "metadata": {},
     "output_type": "execute_result"
    }
   ],
   "source": [
    "pipelines.run_multisamples_svm(tweets, FRACTIONS, REPLICAS)"
   ]
  },
  {
   "cell_type": "code",
   "execution_count": null,
   "metadata": {},
   "outputs": [],
   "source": []
  }
 ],
 "metadata": {
  "kernelspec": {
   "display_name": "Python 3",
   "language": "python",
   "name": "python3"
  },
  "language_info": {
   "codemirror_mode": {
    "name": "ipython",
    "version": 3
   },
   "file_extension": ".py",
   "mimetype": "text/x-python",
   "name": "python",
   "nbconvert_exporter": "python",
   "pygments_lexer": "ipython3",
   "version": "3.6.6"
  }
 },
 "nbformat": 4,
 "nbformat_minor": 2
}
