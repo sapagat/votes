{
 "cells": [
  {
   "cell_type": "code",
   "execution_count": 14,
   "metadata": {},
   "outputs": [
    {
     "name": "stdout",
     "output_type": "stream",
     "text": [
      "The autoreload extension is already loaded. To reload it, use:\n",
      "  %reload_ext autoreload\n"
     ]
    }
   ],
   "source": [
    "import utils.functions as fun\n",
    "from utils import dataset\n",
    "from utils import nlp\n",
    "\n",
    "%load_ext autoreload\n",
    "%autoreload 2"
   ]
  },
  {
   "cell_type": "markdown",
   "metadata": {},
   "source": [
    "## Parse input"
   ]
  },
  {
   "cell_type": "code",
   "execution_count": 15,
   "metadata": {},
   "outputs": [
    {
     "data": {
      "text/plain": [
       "[{'tweet_id': '5247',\n",
       "  'category': 'AGAINST',\n",
       "  'text': 'Victoria del sí, o victoria del NO?? Menos del 50% a favor en #eleccionescatalanas #27S'},\n",
       " {'tweet_id': '4103',\n",
       "  'category': 'NEUTRAL',\n",
       "  'text': 'El PP ja no té vot ocult a Catalunya. Sembla ser que Ciutadans ha capitalitzat el vot del no #27s Veurem què passa...'},\n",
       " {'tweet_id': '5468',\n",
       "  'category': 'AGAINST',\n",
       "  'text': '#27S Que la participación haya subido es buen dato. Que lo haga para desmantelar una mentira como la independentista sería lo ideal.'},\n",
       " {'tweet_id': '1797',\n",
       "  'category': 'FAVOR',\n",
       "  'text': '#Catalunya opta per #independència a les urnes. http://t.co/k4ysUuXRiq @laclaunoticies #JuntsPelSí #27S #HemGuanyat http://t.co/I4PVgbuKPa'},\n",
       " {'tweet_id': '4886',\n",
       "  'category': 'AGAINST',\n",
       "  'text': 'Los que plantean las elecciones del #27S como plebiscitarias son los que dicen que ganan con resultados parlamentarios. O lo uno o lo otro'}]"
      ]
     },
     "execution_count": 15,
     "metadata": {},
     "output_type": "execute_result"
    }
   ],
   "source": [
    "tweets = dataset.read_tweets('DatasetFavCon')\n",
    "tweets[:5]"
   ]
  },
  {
   "cell_type": "markdown",
   "metadata": {},
   "source": [
    "## Pre-processing dataset"
   ]
  },
  {
   "cell_type": "code",
   "execution_count": 16,
   "metadata": {},
   "outputs": [
    {
     "data": {
      "text/plain": [
       "[['victoria', 'victoria', 'meno', '50', 'favor', 'eleccionescatalana', '27'],\n",
       " ['pp',\n",
       "  'ja',\n",
       "  'té',\n",
       "  'vot',\n",
       "  'ocult',\n",
       "  'catalunya',\n",
       "  'sembla',\n",
       "  'ser',\n",
       "  'ciutadan',\n",
       "  'capitalitzat',\n",
       "  'vot',\n",
       "  '27',\n",
       "  'veurem',\n",
       "  'què',\n",
       "  'passa',\n",
       "  '...']]"
      ]
     },
     "execution_count": 16,
     "metadata": {},
     "output_type": "execute_result"
    }
   ],
   "source": [
    "pipeline = [\n",
    "    nlp.remove_old_style_retweet_text,\n",
    "    nlp.remove_hyperlinks,\n",
    "    nlp.remove_hashtags,\n",
    "    nlp.tokenize,\n",
    "    nlp.reject_stopwords,\n",
    "    nlp.reject_emoticons,\n",
    "    nlp.reject_punctuations,\n",
    "    nlp.stem\n",
    "]\n",
    "\n",
    "stem_sentences = [nlp.process_unit(pipeline, tweet['text']) for tweet in tweets]\n",
    "stem_sentences[:2]"
   ]
  },
  {
   "cell_type": "code",
   "execution_count": 17,
   "metadata": {},
   "outputs": [
    {
     "name": "stdout",
     "output_type": "stream",
     "text": [
      "13902\n"
     ]
    },
    {
     "data": {
      "text/plain": [
       "array([0., 0., 0., ..., 0., 0., 0.])"
      ]
     },
     "execution_count": 17,
     "metadata": {},
     "output_type": "execute_result"
    }
   ],
   "source": [
    "result = fun.bag_of_words_for_svm(stem_sentences)\n",
    "print(result['vocabulary_size'])\n",
    "\n",
    "sentences = result['sentences']\n",
    "sentences[0]"
   ]
  },
  {
   "cell_type": "code",
   "execution_count": 18,
   "metadata": {},
   "outputs": [
    {
     "data": {
      "text/plain": [
       "['AGAINST', 'NEUTRAL', 'AGAINST']"
      ]
     },
     "execution_count": 18,
     "metadata": {},
     "output_type": "execute_result"
    }
   ],
   "source": [
    "labels = [tweet['category'] for tweet in tweets]\n",
    "labels[:3]"
   ]
  },
  {
   "cell_type": "markdown",
   "metadata": {},
   "source": [
    "## Predicting with a SVM"
   ]
  },
  {
   "cell_type": "code",
   "execution_count": 19,
   "metadata": {},
   "outputs": [
    {
     "name": "stderr",
     "output_type": "stream",
     "text": [
      "/root/.local/share/virtualenvs/app-ueEJiAOq/lib/python3.6/site-packages/sklearn/svm/base.py:244: ConvergenceWarning: Solver terminated early (max_iter=500).  Consider pre-processing your data with StandardScaler or MinMaxScaler.\n",
      "  % self.max_iter, ConvergenceWarning)\n"
     ]
    },
    {
     "data": {
      "text/plain": [
       "{'total_correct': 1963, 'accuracy': 0.705861201006832}"
      ]
     },
     "execution_count": 19,
     "metadata": {},
     "output_type": "execute_result"
    }
   ],
   "source": [
    "TEST_SIZE = 0.33\n",
    "MAX_ITERATIONS = 500\n",
    "X = sentences\n",
    "y = labels\n",
    "\n",
    "result = fun.classify_with_svm(X, y, TEST_SIZE, MAX_ITERATIONS)\n",
    "result"
   ]
  }
 ],
 "metadata": {
  "kernelspec": {
   "display_name": "Python 3",
   "language": "python",
   "name": "python3"
  },
  "language_info": {
   "codemirror_mode": {
    "name": "ipython",
    "version": 3
   },
   "file_extension": ".py",
   "mimetype": "text/x-python",
   "name": "python",
   "nbconvert_exporter": "python",
   "pygments_lexer": "ipython3",
   "version": "3.6.6"
  }
 },
 "nbformat": 4,
 "nbformat_minor": 2
}
